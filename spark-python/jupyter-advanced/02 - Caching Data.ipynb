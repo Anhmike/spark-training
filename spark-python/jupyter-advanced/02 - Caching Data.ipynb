{
 "cells": [
  {
   "cell_type": "markdown",
   "metadata": {},
   "source": [
    "# Caching Data"
   ]
  },
  {
   "cell_type": "markdown",
   "metadata": {},
   "source": [
    "# 1 Load Data"
   ]
  },
  {
   "cell_type": "code",
   "execution_count": 1,
   "metadata": {},
   "outputs": [],
   "source": [
    "storageLocation = \"s3://dimajix-training/data/weather\""
   ]
  },
  {
   "cell_type": "markdown",
   "metadata": {},
   "source": [
    "## 1.1 Load Measurements"
   ]
  },
  {
   "cell_type": "code",
   "execution_count": 2,
   "metadata": {},
   "outputs": [],
   "source": [
    "from pyspark.sql.functions import *\n",
    "from functools import reduce\n",
    "\n",
    "# Read in all years, store them in an Python array\n",
    "raw_weather_per_year = [spark.read.text(storageLocation + \"/\" + str(i)).withColumn(\"year\", lit(i)) for i in range(2003,2015)]\n",
    "\n",
    "# Union all years together\n",
    "raw_weather = reduce(lambda l,r: l.union(r), raw_weather_per_year)                        "
   ]
  },
  {
   "cell_type": "markdown",
   "metadata": {},
   "source": [
    "Use a single year to keep execution plans small"
   ]
  },
  {
   "cell_type": "code",
   "execution_count": 3,
   "metadata": {},
   "outputs": [],
   "source": [
    "raw_weather = spark.read.text(storageLocation + \"/2003\").withColumn(\"year\", lit(2003))"
   ]
  },
  {
   "cell_type": "code",
   "execution_count": 4,
   "metadata": {},
   "outputs": [
    {
     "data": {
      "text/html": [
       "<div>\n",
       "<style scoped>\n",
       "    .dataframe tbody tr th:only-of-type {\n",
       "        vertical-align: middle;\n",
       "    }\n",
       "\n",
       "    .dataframe tbody tr th {\n",
       "        vertical-align: top;\n",
       "    }\n",
       "\n",
       "    .dataframe thead th {\n",
       "        text-align: right;\n",
       "    }\n",
       "</style>\n",
       "<table border=\"1\" class=\"dataframe\">\n",
       "  <thead>\n",
       "    <tr style=\"text-align: right;\">\n",
       "      <th></th>\n",
       "      <th>year</th>\n",
       "      <th>usaf</th>\n",
       "      <th>wban</th>\n",
       "      <th>date</th>\n",
       "      <th>time</th>\n",
       "      <th>report_type</th>\n",
       "      <th>wind_direction</th>\n",
       "      <th>wind_direction_qual</th>\n",
       "      <th>wind_observation</th>\n",
       "      <th>wind_speed</th>\n",
       "      <th>wind_speed_qual</th>\n",
       "      <th>air_temperature</th>\n",
       "      <th>air_temperature_qual</th>\n",
       "    </tr>\n",
       "  </thead>\n",
       "  <tbody>\n",
       "    <tr>\n",
       "      <th>0</th>\n",
       "      <td>2003</td>\n",
       "      <td>703160</td>\n",
       "      <td>25624</td>\n",
       "      <td>20030101</td>\n",
       "      <td>0000</td>\n",
       "      <td>SY-MT</td>\n",
       "      <td>010</td>\n",
       "      <td>5</td>\n",
       "      <td>N</td>\n",
       "      <td>5.2</td>\n",
       "      <td>5</td>\n",
       "      <td>-0.6</td>\n",
       "      <td>5</td>\n",
       "    </tr>\n",
       "    <tr>\n",
       "      <th>1</th>\n",
       "      <td>2003</td>\n",
       "      <td>703160</td>\n",
       "      <td>25624</td>\n",
       "      <td>20030101</td>\n",
       "      <td>0017</td>\n",
       "      <td>FM-16</td>\n",
       "      <td>020</td>\n",
       "      <td>1</td>\n",
       "      <td>N</td>\n",
       "      <td>4.6</td>\n",
       "      <td>1</td>\n",
       "      <td>-2.0</td>\n",
       "      <td>1</td>\n",
       "    </tr>\n",
       "    <tr>\n",
       "      <th>2</th>\n",
       "      <td>2003</td>\n",
       "      <td>703160</td>\n",
       "      <td>25624</td>\n",
       "      <td>20030101</td>\n",
       "      <td>0053</td>\n",
       "      <td>FM-15</td>\n",
       "      <td>010</td>\n",
       "      <td>5</td>\n",
       "      <td>N</td>\n",
       "      <td>5.2</td>\n",
       "      <td>5</td>\n",
       "      <td>-2.8</td>\n",
       "      <td>5</td>\n",
       "    </tr>\n",
       "    <tr>\n",
       "      <th>3</th>\n",
       "      <td>2003</td>\n",
       "      <td>703160</td>\n",
       "      <td>25624</td>\n",
       "      <td>20030101</td>\n",
       "      <td>0100</td>\n",
       "      <td>NSRDB</td>\n",
       "      <td>999</td>\n",
       "      <td>9</td>\n",
       "      <td>9</td>\n",
       "      <td>999.9</td>\n",
       "      <td>9</td>\n",
       "      <td>999.9</td>\n",
       "      <td>9</td>\n",
       "    </tr>\n",
       "    <tr>\n",
       "      <th>4</th>\n",
       "      <td>2003</td>\n",
       "      <td>703160</td>\n",
       "      <td>25624</td>\n",
       "      <td>20030101</td>\n",
       "      <td>0153</td>\n",
       "      <td>FM-15</td>\n",
       "      <td>010</td>\n",
       "      <td>5</td>\n",
       "      <td>N</td>\n",
       "      <td>6.2</td>\n",
       "      <td>5</td>\n",
       "      <td>-2.2</td>\n",
       "      <td>5</td>\n",
       "    </tr>\n",
       "    <tr>\n",
       "      <th>5</th>\n",
       "      <td>2003</td>\n",
       "      <td>703160</td>\n",
       "      <td>25624</td>\n",
       "      <td>20030101</td>\n",
       "      <td>0200</td>\n",
       "      <td>NSRDB</td>\n",
       "      <td>999</td>\n",
       "      <td>9</td>\n",
       "      <td>9</td>\n",
       "      <td>999.9</td>\n",
       "      <td>9</td>\n",
       "      <td>999.9</td>\n",
       "      <td>9</td>\n",
       "    </tr>\n",
       "    <tr>\n",
       "      <th>6</th>\n",
       "      <td>2003</td>\n",
       "      <td>703160</td>\n",
       "      <td>25624</td>\n",
       "      <td>20030101</td>\n",
       "      <td>0253</td>\n",
       "      <td>FM-15</td>\n",
       "      <td>010</td>\n",
       "      <td>5</td>\n",
       "      <td>N</td>\n",
       "      <td>7.2</td>\n",
       "      <td>5</td>\n",
       "      <td>-3.3</td>\n",
       "      <td>5</td>\n",
       "    </tr>\n",
       "    <tr>\n",
       "      <th>7</th>\n",
       "      <td>2003</td>\n",
       "      <td>703160</td>\n",
       "      <td>25624</td>\n",
       "      <td>20030101</td>\n",
       "      <td>0300</td>\n",
       "      <td>NSRDB</td>\n",
       "      <td>999</td>\n",
       "      <td>9</td>\n",
       "      <td>9</td>\n",
       "      <td>999.9</td>\n",
       "      <td>9</td>\n",
       "      <td>999.9</td>\n",
       "      <td>9</td>\n",
       "    </tr>\n",
       "    <tr>\n",
       "      <th>8</th>\n",
       "      <td>2003</td>\n",
       "      <td>703160</td>\n",
       "      <td>25624</td>\n",
       "      <td>20030101</td>\n",
       "      <td>0353</td>\n",
       "      <td>FM-15</td>\n",
       "      <td>020</td>\n",
       "      <td>5</td>\n",
       "      <td>N</td>\n",
       "      <td>6.2</td>\n",
       "      <td>5</td>\n",
       "      <td>-1.1</td>\n",
       "      <td>5</td>\n",
       "    </tr>\n",
       "    <tr>\n",
       "      <th>9</th>\n",
       "      <td>2003</td>\n",
       "      <td>703160</td>\n",
       "      <td>25624</td>\n",
       "      <td>20030101</td>\n",
       "      <td>0400</td>\n",
       "      <td>NSRDB</td>\n",
       "      <td>999</td>\n",
       "      <td>9</td>\n",
       "      <td>9</td>\n",
       "      <td>999.9</td>\n",
       "      <td>9</td>\n",
       "      <td>999.9</td>\n",
       "      <td>9</td>\n",
       "    </tr>\n",
       "  </tbody>\n",
       "</table>\n",
       "</div>"
      ],
      "text/plain": [
       "   year    usaf   wban      date  time report_type wind_direction  \\\n",
       "0  2003  703160  25624  20030101  0000       SY-MT            010   \n",
       "1  2003  703160  25624  20030101  0017       FM-16            020   \n",
       "2  2003  703160  25624  20030101  0053       FM-15            010   \n",
       "3  2003  703160  25624  20030101  0100       NSRDB            999   \n",
       "4  2003  703160  25624  20030101  0153       FM-15            010   \n",
       "5  2003  703160  25624  20030101  0200       NSRDB            999   \n",
       "6  2003  703160  25624  20030101  0253       FM-15            010   \n",
       "7  2003  703160  25624  20030101  0300       NSRDB            999   \n",
       "8  2003  703160  25624  20030101  0353       FM-15            020   \n",
       "9  2003  703160  25624  20030101  0400       NSRDB            999   \n",
       "\n",
       "  wind_direction_qual wind_observation  wind_speed wind_speed_qual  \\\n",
       "0                   5                N         5.2               5   \n",
       "1                   1                N         4.6               1   \n",
       "2                   5                N         5.2               5   \n",
       "3                   9                9       999.9               9   \n",
       "4                   5                N         6.2               5   \n",
       "5                   9                9       999.9               9   \n",
       "6                   5                N         7.2               5   \n",
       "7                   9                9       999.9               9   \n",
       "8                   5                N         6.2               5   \n",
       "9                   9                9       999.9               9   \n",
       "\n",
       "   air_temperature air_temperature_qual  \n",
       "0             -0.6                    5  \n",
       "1             -2.0                    1  \n",
       "2             -2.8                    5  \n",
       "3            999.9                    9  \n",
       "4             -2.2                    5  \n",
       "5            999.9                    9  \n",
       "6             -3.3                    5  \n",
       "7            999.9                    9  \n",
       "8             -1.1                    5  \n",
       "9            999.9                    9  "
      ]
     },
     "execution_count": 4,
     "metadata": {},
     "output_type": "execute_result"
    }
   ],
   "source": [
    "weather = raw_weather.select(\n",
    "    col(\"year\"),\n",
    "    substring(col(\"value\"),5,6).alias(\"usaf\"),\n",
    "    substring(col(\"value\"),11,5).alias(\"wban\"),\n",
    "    substring(col(\"value\"),16,8).alias(\"date\"),\n",
    "    substring(col(\"value\"),24,4).alias(\"time\"),\n",
    "    substring(col(\"value\"),42,5).alias(\"report_type\"),\n",
    "    substring(col(\"value\"),61,3).alias(\"wind_direction\"),\n",
    "    substring(col(\"value\"),64,1).alias(\"wind_direction_qual\"),\n",
    "    substring(col(\"value\"),65,1).alias(\"wind_observation\"),\n",
    "    (substring(col(\"value\"),66,4).cast(\"float\") / lit(10.0)).alias(\"wind_speed\"),\n",
    "    substring(col(\"value\"),70,1).alias(\"wind_speed_qual\"),\n",
    "    (substring(col(\"value\"),88,5).cast(\"float\") / lit(10.0)).alias(\"air_temperature\"),\n",
    "    substring(col(\"value\"),93,1).alias(\"air_temperature_qual\")\n",
    ")\n",
    "    \n",
    "weather.limit(10).toPandas()"
   ]
  },
  {
   "cell_type": "markdown",
   "metadata": {},
   "source": [
    "## 1.2 Load Station Metadata"
   ]
  },
  {
   "cell_type": "code",
   "execution_count": 5,
   "metadata": {},
   "outputs": [
    {
     "data": {
      "text/html": [
       "<div>\n",
       "<style scoped>\n",
       "    .dataframe tbody tr th:only-of-type {\n",
       "        vertical-align: middle;\n",
       "    }\n",
       "\n",
       "    .dataframe tbody tr th {\n",
       "        vertical-align: top;\n",
       "    }\n",
       "\n",
       "    .dataframe thead th {\n",
       "        text-align: right;\n",
       "    }\n",
       "</style>\n",
       "<table border=\"1\" class=\"dataframe\">\n",
       "  <thead>\n",
       "    <tr style=\"text-align: right;\">\n",
       "      <th></th>\n",
       "      <th>USAF</th>\n",
       "      <th>WBAN</th>\n",
       "      <th>STATION NAME</th>\n",
       "      <th>CTRY</th>\n",
       "      <th>STATE</th>\n",
       "      <th>ICAO</th>\n",
       "      <th>LAT</th>\n",
       "      <th>LON</th>\n",
       "      <th>ELEV(M)</th>\n",
       "      <th>BEGIN</th>\n",
       "      <th>END</th>\n",
       "    </tr>\n",
       "  </thead>\n",
       "  <tbody>\n",
       "    <tr>\n",
       "      <th>0</th>\n",
       "      <td>007005</td>\n",
       "      <td>99999</td>\n",
       "      <td>CWOS 07005</td>\n",
       "      <td>None</td>\n",
       "      <td>None</td>\n",
       "      <td>None</td>\n",
       "      <td>None</td>\n",
       "      <td>None</td>\n",
       "      <td>None</td>\n",
       "      <td>20120127</td>\n",
       "      <td>20120127</td>\n",
       "    </tr>\n",
       "    <tr>\n",
       "      <th>1</th>\n",
       "      <td>007011</td>\n",
       "      <td>99999</td>\n",
       "      <td>CWOS 07011</td>\n",
       "      <td>None</td>\n",
       "      <td>None</td>\n",
       "      <td>None</td>\n",
       "      <td>None</td>\n",
       "      <td>None</td>\n",
       "      <td>None</td>\n",
       "      <td>20111025</td>\n",
       "      <td>20121129</td>\n",
       "    </tr>\n",
       "    <tr>\n",
       "      <th>2</th>\n",
       "      <td>007018</td>\n",
       "      <td>99999</td>\n",
       "      <td>WXPOD 7018</td>\n",
       "      <td>None</td>\n",
       "      <td>None</td>\n",
       "      <td>None</td>\n",
       "      <td>+00.000</td>\n",
       "      <td>+000.000</td>\n",
       "      <td>+7018.0</td>\n",
       "      <td>20110309</td>\n",
       "      <td>20130730</td>\n",
       "    </tr>\n",
       "    <tr>\n",
       "      <th>3</th>\n",
       "      <td>007025</td>\n",
       "      <td>99999</td>\n",
       "      <td>CWOS 07025</td>\n",
       "      <td>None</td>\n",
       "      <td>None</td>\n",
       "      <td>None</td>\n",
       "      <td>None</td>\n",
       "      <td>None</td>\n",
       "      <td>None</td>\n",
       "      <td>20120127</td>\n",
       "      <td>20120127</td>\n",
       "    </tr>\n",
       "    <tr>\n",
       "      <th>4</th>\n",
       "      <td>007026</td>\n",
       "      <td>99999</td>\n",
       "      <td>WXPOD 7026</td>\n",
       "      <td>AF</td>\n",
       "      <td>None</td>\n",
       "      <td>None</td>\n",
       "      <td>+00.000</td>\n",
       "      <td>+000.000</td>\n",
       "      <td>+7026.0</td>\n",
       "      <td>20120713</td>\n",
       "      <td>20141120</td>\n",
       "    </tr>\n",
       "    <tr>\n",
       "      <th>5</th>\n",
       "      <td>007034</td>\n",
       "      <td>99999</td>\n",
       "      <td>CWOS 07034</td>\n",
       "      <td>None</td>\n",
       "      <td>None</td>\n",
       "      <td>None</td>\n",
       "      <td>None</td>\n",
       "      <td>None</td>\n",
       "      <td>None</td>\n",
       "      <td>20121024</td>\n",
       "      <td>20121106</td>\n",
       "    </tr>\n",
       "    <tr>\n",
       "      <th>6</th>\n",
       "      <td>007037</td>\n",
       "      <td>99999</td>\n",
       "      <td>CWOS 07037</td>\n",
       "      <td>None</td>\n",
       "      <td>None</td>\n",
       "      <td>None</td>\n",
       "      <td>None</td>\n",
       "      <td>None</td>\n",
       "      <td>None</td>\n",
       "      <td>20111202</td>\n",
       "      <td>20121125</td>\n",
       "    </tr>\n",
       "    <tr>\n",
       "      <th>7</th>\n",
       "      <td>007044</td>\n",
       "      <td>99999</td>\n",
       "      <td>CWOS 07044</td>\n",
       "      <td>None</td>\n",
       "      <td>None</td>\n",
       "      <td>None</td>\n",
       "      <td>None</td>\n",
       "      <td>None</td>\n",
       "      <td>None</td>\n",
       "      <td>20120127</td>\n",
       "      <td>20120127</td>\n",
       "    </tr>\n",
       "    <tr>\n",
       "      <th>8</th>\n",
       "      <td>007047</td>\n",
       "      <td>99999</td>\n",
       "      <td>CWOS 07047</td>\n",
       "      <td>None</td>\n",
       "      <td>None</td>\n",
       "      <td>None</td>\n",
       "      <td>None</td>\n",
       "      <td>None</td>\n",
       "      <td>None</td>\n",
       "      <td>20120613</td>\n",
       "      <td>20120717</td>\n",
       "    </tr>\n",
       "    <tr>\n",
       "      <th>9</th>\n",
       "      <td>007052</td>\n",
       "      <td>99999</td>\n",
       "      <td>CWOS 07052</td>\n",
       "      <td>None</td>\n",
       "      <td>None</td>\n",
       "      <td>None</td>\n",
       "      <td>None</td>\n",
       "      <td>None</td>\n",
       "      <td>None</td>\n",
       "      <td>20121129</td>\n",
       "      <td>20121130</td>\n",
       "    </tr>\n",
       "  </tbody>\n",
       "</table>\n",
       "</div>"
      ],
      "text/plain": [
       "     USAF   WBAN STATION NAME  CTRY STATE  ICAO      LAT       LON  ELEV(M)  \\\n",
       "0  007005  99999   CWOS 07005  None  None  None     None      None     None   \n",
       "1  007011  99999   CWOS 07011  None  None  None     None      None     None   \n",
       "2  007018  99999   WXPOD 7018  None  None  None  +00.000  +000.000  +7018.0   \n",
       "3  007025  99999   CWOS 07025  None  None  None     None      None     None   \n",
       "4  007026  99999   WXPOD 7026    AF  None  None  +00.000  +000.000  +7026.0   \n",
       "5  007034  99999   CWOS 07034  None  None  None     None      None     None   \n",
       "6  007037  99999   CWOS 07037  None  None  None     None      None     None   \n",
       "7  007044  99999   CWOS 07044  None  None  None     None      None     None   \n",
       "8  007047  99999   CWOS 07047  None  None  None     None      None     None   \n",
       "9  007052  99999   CWOS 07052  None  None  None     None      None     None   \n",
       "\n",
       "      BEGIN       END  \n",
       "0  20120127  20120127  \n",
       "1  20111025  20121129  \n",
       "2  20110309  20130730  \n",
       "3  20120127  20120127  \n",
       "4  20120713  20141120  \n",
       "5  20121024  20121106  \n",
       "6  20111202  20121125  \n",
       "7  20120127  20120127  \n",
       "8  20120613  20120717  \n",
       "9  20121129  20121130  "
      ]
     },
     "execution_count": 5,
     "metadata": {},
     "output_type": "execute_result"
    }
   ],
   "source": [
    "stations = spark.read \\\n",
    "    .option(\"header\", True) \\\n",
    "    .csv(storageLocation + \"/isd-history\")\n",
    "\n",
    "# Display first 10 records    \n",
    "stations.limit(10).toPandas()"
   ]
  },
  {
   "cell_type": "markdown",
   "metadata": {},
   "source": [
    "# 2 Caching Data"
   ]
  },
  {
   "cell_type": "markdown",
   "metadata": {},
   "source": [
    "## 2.1 Original Execution Plan"
   ]
  },
  {
   "cell_type": "code",
   "execution_count": 6,
   "metadata": {},
   "outputs": [
    {
     "name": "stdout",
     "output_type": "stream",
     "text": [
      "== Parsed Logical Plan ==\n",
      "'Aggregate [CTRY#127, year#84], [CTRY#127, year#84, min(CASE WHEN (air_temperature_qual#98 = 1) THEN air_temperature#97 END) AS min_temp#255, max(CASE WHEN (air_temperature_qual#98 = 1) THEN air_temperature#97 END) AS max_temp#257]\n",
      "+- AnalysisBarrier\n",
      "      +- Join Inner, ((usaf#87 = USAF#124) && (wban#88 = WBAN#125))\n",
      "         :- Project [year#84, substring(value#82, 5, 6) AS usaf#87, substring(value#82, 11, 5) AS wban#88, substring(value#82, 16, 8) AS date#89, substring(value#82, 24, 4) AS time#90, substring(value#82, 42, 5) AS report_type#91, substring(value#82, 61, 3) AS wind_direction#92, substring(value#82, 64, 1) AS wind_direction_qual#93, substring(value#82, 65, 1) AS wind_observation#94, (cast(cast(substring(value#82, 66, 4) as float) as double) / cast(10.0 as double)) AS wind_speed#95, substring(value#82, 70, 1) AS wind_speed_qual#96, (cast(cast(substring(value#82, 88, 5) as float) as double) / cast(10.0 as double)) AS air_temperature#97, substring(value#82, 93, 1) AS air_temperature_qual#98]\n",
      "         :  +- Project [value#82, 2003 AS year#84]\n",
      "         :     +- Relation[value#82] text\n",
      "         +- Relation[USAF#124,WBAN#125,STATION NAME#126,CTRY#127,STATE#128,ICAO#129,LAT#130,LON#131,ELEV(M)#132,BEGIN#133,END#134] csv\n",
      "\n",
      "== Analyzed Logical Plan ==\n",
      "CTRY: string, year: int, min_temp: double, max_temp: double\n",
      "Aggregate [CTRY#127, year#84], [CTRY#127, year#84, min(CASE WHEN (cast(air_temperature_qual#98 as int) = 1) THEN air_temperature#97 END) AS min_temp#255, max(CASE WHEN (cast(air_temperature_qual#98 as int) = 1) THEN air_temperature#97 END) AS max_temp#257]\n",
      "+- Join Inner, ((usaf#87 = USAF#124) && (wban#88 = WBAN#125))\n",
      "   :- Project [year#84, substring(value#82, 5, 6) AS usaf#87, substring(value#82, 11, 5) AS wban#88, substring(value#82, 16, 8) AS date#89, substring(value#82, 24, 4) AS time#90, substring(value#82, 42, 5) AS report_type#91, substring(value#82, 61, 3) AS wind_direction#92, substring(value#82, 64, 1) AS wind_direction_qual#93, substring(value#82, 65, 1) AS wind_observation#94, (cast(cast(substring(value#82, 66, 4) as float) as double) / cast(10.0 as double)) AS wind_speed#95, substring(value#82, 70, 1) AS wind_speed_qual#96, (cast(cast(substring(value#82, 88, 5) as float) as double) / cast(10.0 as double)) AS air_temperature#97, substring(value#82, 93, 1) AS air_temperature_qual#98]\n",
      "   :  +- Project [value#82, 2003 AS year#84]\n",
      "   :     +- Relation[value#82] text\n",
      "   +- Relation[USAF#124,WBAN#125,STATION NAME#126,CTRY#127,STATE#128,ICAO#129,LAT#130,LON#131,ELEV(M)#132,BEGIN#133,END#134] csv\n",
      "\n",
      "== Optimized Logical Plan ==\n",
      "Aggregate [CTRY#127, 2003], [CTRY#127, 2003 AS year#84, min(CASE WHEN (cast(air_temperature_qual#98 as int) = 1) THEN air_temperature#97 END) AS min_temp#255, max(CASE WHEN (cast(air_temperature_qual#98 as int) = 1) THEN air_temperature#97 END) AS max_temp#257]\n",
      "+- Project [air_temperature#97, air_temperature_qual#98, CTRY#127]\n",
      "   +- Join Inner, ((usaf#87 = USAF#124) && (wban#88 = WBAN#125))\n",
      "      :- Project [substring(value#82, 5, 6) AS usaf#87, substring(value#82, 11, 5) AS wban#88, (cast(cast(substring(value#82, 88, 5) as float) as double) / 10.0) AS air_temperature#97, substring(value#82, 93, 1) AS air_temperature_qual#98]\n",
      "      :  +- Filter (isnotnull(substring(value#82, 5, 6)) && isnotnull(substring(value#82, 11, 5)))\n",
      "      :     +- Relation[value#82] text\n",
      "      +- Project [USAF#124, WBAN#125, CTRY#127]\n",
      "         +- Filter (isnotnull(USAF#124) && isnotnull(WBAN#125))\n",
      "            +- Relation[USAF#124,WBAN#125,STATION NAME#126,CTRY#127,STATE#128,ICAO#129,LAT#130,LON#131,ELEV(M)#132,BEGIN#133,END#134] csv\n",
      "\n",
      "== Physical Plan ==\n",
      "*(3) HashAggregate(keys=[CTRY#127, 2003#262], functions=[min(CASE WHEN (cast(air_temperature_qual#98 as int) = 1) THEN air_temperature#97 END), max(CASE WHEN (cast(air_temperature_qual#98 as int) = 1) THEN air_temperature#97 END)], output=[CTRY#127, year#84, min_temp#255, max_temp#257])\n",
      "+- Exchange hashpartitioning(CTRY#127, 2003#262, 200)\n",
      "   +- *(2) HashAggregate(keys=[CTRY#127, 2003 AS 2003#262], functions=[partial_min(CASE WHEN (cast(air_temperature_qual#98 as int) = 1) THEN air_temperature#97 END), partial_max(CASE WHEN (cast(air_temperature_qual#98 as int) = 1) THEN air_temperature#97 END)], output=[CTRY#127, 2003#262, min#265, max#266])\n",
      "      +- *(2) Project [air_temperature#97, air_temperature_qual#98, CTRY#127]\n",
      "         +- *(2) BroadcastHashJoin [usaf#87, wban#88], [USAF#124, WBAN#125], Inner, BuildRight\n",
      "            :- *(2) Project [substring(value#82, 5, 6) AS usaf#87, substring(value#82, 11, 5) AS wban#88, (cast(cast(substring(value#82, 88, 5) as float) as double) / 10.0) AS air_temperature#97, substring(value#82, 93, 1) AS air_temperature_qual#98]\n",
      "            :  +- *(2) Filter (isnotnull(substring(value#82, 5, 6)) && isnotnull(substring(value#82, 11, 5)))\n",
      "            :     +- *(2) FileScan text [value#82] Batched: false, Format: Text, Location: InMemoryFileIndex[s3://dimajix-training/data/weather/2003], PartitionFilters: [], PushedFilters: [], ReadSchema: struct<value:string>\n",
      "            +- BroadcastExchange HashedRelationBroadcastMode(List(input[0, string, true], input[1, string, true]))\n",
      "               +- *(1) Project [USAF#124, WBAN#125, CTRY#127]\n",
      "                  +- *(1) Filter (isnotnull(USAF#124) && isnotnull(WBAN#125))\n",
      "                     +- *(1) FileScan csv [USAF#124,WBAN#125,CTRY#127] Batched: false, Format: CSV, Location: InMemoryFileIndex[s3://dimajix-training/data/weather/isd-history], PartitionFilters: [], PushedFilters: [IsNotNull(USAF), IsNotNull(WBAN)], ReadSchema: struct<USAF:string,WBAN:string,CTRY:string>\n"
     ]
    }
   ],
   "source": [
    "df = weather.join(stations, (weather.usaf == stations.USAF) & (weather.wban == stations.WBAN))\n",
    "result = df.groupBy(df.CTRY, df.year).agg(\n",
    "        min(when(df.air_temperature_qual == lit(1), df.air_temperature)).alias('min_temp'),\n",
    "        max(when(df.air_temperature_qual == lit(1), df.air_temperature)).alias('max_temp')\n",
    "    )\n",
    "result.explain(True)"
   ]
  },
  {
   "cell_type": "markdown",
   "metadata": {},
   "source": [
    "## 2.2 Caching Weather"
   ]
  },
  {
   "cell_type": "code",
   "execution_count": 25,
   "metadata": {},
   "outputs": [
    {
     "data": {
      "text/plain": [
       "DataFrame[year: int, usaf: string, wban: string, date: string, time: string, report_type: string, wind_direction: string, wind_direction_qual: string, wind_observation: string, wind_speed: double, wind_speed_qual: string, air_temperature: double, air_temperature_qual: string]"
      ]
     },
     "execution_count": 25,
     "metadata": {},
     "output_type": "execute_result"
    }
   ],
   "source": [
    "weather.cache()"
   ]
  },
  {
   "cell_type": "code",
   "execution_count": 26,
   "metadata": {},
   "outputs": [
    {
     "data": {
      "text/plain": [
       "1798753"
      ]
     },
     "execution_count": 26,
     "metadata": {},
     "output_type": "execute_result"
    }
   ],
   "source": [
    "weather.count()"
   ]
  },
  {
   "cell_type": "code",
   "execution_count": 13,
   "metadata": {},
   "outputs": [
    {
     "name": "stdout",
     "output_type": "stream",
     "text": [
      "== Parsed Logical Plan ==\n",
      "'Project [unresolvedalias('year, None), substring('value, 5, 6) AS usaf#87, substring('value, 11, 5) AS wban#88, substring('value, 16, 8) AS date#89, substring('value, 24, 4) AS time#90, substring('value, 42, 5) AS report_type#91, substring('value, 61, 3) AS wind_direction#92, substring('value, 64, 1) AS wind_direction_qual#93, substring('value, 65, 1) AS wind_observation#94, (cast(substring('value, 66, 4) as float) / 10.0) AS wind_speed#95, substring('value, 70, 1) AS wind_speed_qual#96, (cast(substring('value, 88, 5) as float) / 10.0) AS air_temperature#97, substring('value, 93, 1) AS air_temperature_qual#98]\n",
      "+- AnalysisBarrier\n",
      "      +- Project [value#82, 2003 AS year#84]\n",
      "         +- Relation[value#82] text\n",
      "\n",
      "== Analyzed Logical Plan ==\n",
      "year: int, usaf: string, wban: string, date: string, time: string, report_type: string, wind_direction: string, wind_direction_qual: string, wind_observation: string, wind_speed: double, wind_speed_qual: string, air_temperature: double, air_temperature_qual: string\n",
      "Project [year#84, substring(value#82, 5, 6) AS usaf#87, substring(value#82, 11, 5) AS wban#88, substring(value#82, 16, 8) AS date#89, substring(value#82, 24, 4) AS time#90, substring(value#82, 42, 5) AS report_type#91, substring(value#82, 61, 3) AS wind_direction#92, substring(value#82, 64, 1) AS wind_direction_qual#93, substring(value#82, 65, 1) AS wind_observation#94, (cast(cast(substring(value#82, 66, 4) as float) as double) / cast(10.0 as double)) AS wind_speed#95, substring(value#82, 70, 1) AS wind_speed_qual#96, (cast(cast(substring(value#82, 88, 5) as float) as double) / cast(10.0 as double)) AS air_temperature#97, substring(value#82, 93, 1) AS air_temperature_qual#98]\n",
      "+- Project [value#82, 2003 AS year#84]\n",
      "   +- Relation[value#82] text\n",
      "\n",
      "== Optimized Logical Plan ==\n",
      "InMemoryRelation [year#84, usaf#87, wban#88, date#89, time#90, report_type#91, wind_direction#92, wind_direction_qual#93, wind_observation#94, wind_speed#95, wind_speed_qual#96, air_temperature#97, air_temperature_qual#98], true, 10000, StorageLevel(disk, memory, deserialized, 1 replicas)\n",
      "   +- *(1) Project [2003 AS year#84, substring(value#82, 5, 6) AS usaf#87, substring(value#82, 11, 5) AS wban#88, substring(value#82, 16, 8) AS date#89, substring(value#82, 24, 4) AS time#90, substring(value#82, 42, 5) AS report_type#91, substring(value#82, 61, 3) AS wind_direction#92, substring(value#82, 64, 1) AS wind_direction_qual#93, substring(value#82, 65, 1) AS wind_observation#94, (cast(cast(substring(value#82, 66, 4) as float) as double) / 10.0) AS wind_speed#95, substring(value#82, 70, 1) AS wind_speed_qual#96, (cast(cast(substring(value#82, 88, 5) as float) as double) / 10.0) AS air_temperature#97, substring(value#82, 93, 1) AS air_temperature_qual#98]\n",
      "      +- *(1) FileScan text [value#82] Batched: false, Format: Text, Location: InMemoryFileIndex[s3://dimajix-training/data/weather/2003], PartitionFilters: [], PushedFilters: [], ReadSchema: struct<value:string>\n",
      "\n",
      "== Physical Plan ==\n",
      "InMemoryTableScan [year#84, usaf#87, wban#88, date#89, time#90, report_type#91, wind_direction#92, wind_direction_qual#93, wind_observation#94, wind_speed#95, wind_speed_qual#96, air_temperature#97, air_temperature_qual#98]\n",
      "   +- InMemoryRelation [year#84, usaf#87, wban#88, date#89, time#90, report_type#91, wind_direction#92, wind_direction_qual#93, wind_observation#94, wind_speed#95, wind_speed_qual#96, air_temperature#97, air_temperature_qual#98], true, 10000, StorageLevel(disk, memory, deserialized, 1 replicas)\n",
      "         +- *(1) Project [2003 AS year#84, substring(value#82, 5, 6) AS usaf#87, substring(value#82, 11, 5) AS wban#88, substring(value#82, 16, 8) AS date#89, substring(value#82, 24, 4) AS time#90, substring(value#82, 42, 5) AS report_type#91, substring(value#82, 61, 3) AS wind_direction#92, substring(value#82, 64, 1) AS wind_direction_qual#93, substring(value#82, 65, 1) AS wind_observation#94, (cast(cast(substring(value#82, 66, 4) as float) as double) / 10.0) AS wind_speed#95, substring(value#82, 70, 1) AS wind_speed_qual#96, (cast(cast(substring(value#82, 88, 5) as float) as double) / 10.0) AS air_temperature#97, substring(value#82, 93, 1) AS air_temperature_qual#98]\n",
      "            +- *(1) FileScan text [value#82] Batched: false, Format: Text, Location: InMemoryFileIndex[s3://dimajix-training/data/weather/2003], PartitionFilters: [], PushedFilters: [], ReadSchema: struct<value:string>\n"
     ]
    }
   ],
   "source": [
    "weather.explain(True)"
   ]
  },
  {
   "cell_type": "markdown",
   "metadata": {},
   "source": [
    "Note the InMemoryRelation! Caching always is a two-step operation\n",
    "* Creating the cache (InMemoryRelation)\n",
    "* Using the cache (InMemoryTableScan)"
   ]
  },
  {
   "cell_type": "code",
   "execution_count": 8,
   "metadata": {},
   "outputs": [
    {
     "name": "stdout",
     "output_type": "stream",
     "text": [
      "== Parsed Logical Plan ==\n",
      "'Aggregate [CTRY#127, year#84], [CTRY#127, year#84, min(CASE WHEN (air_temperature_qual#98 = 1) THEN air_temperature#97 END) AS min_temp#358, max(CASE WHEN (air_temperature_qual#98 = 1) THEN air_temperature#97 END) AS max_temp#360]\n",
      "+- AnalysisBarrier\n",
      "      +- Join Inner, ((usaf#87 = USAF#124) && (wban#88 = WBAN#125))\n",
      "         :- Project [year#84, substring(value#82, 5, 6) AS usaf#87, substring(value#82, 11, 5) AS wban#88, substring(value#82, 16, 8) AS date#89, substring(value#82, 24, 4) AS time#90, substring(value#82, 42, 5) AS report_type#91, substring(value#82, 61, 3) AS wind_direction#92, substring(value#82, 64, 1) AS wind_direction_qual#93, substring(value#82, 65, 1) AS wind_observation#94, (cast(cast(substring(value#82, 66, 4) as float) as double) / cast(10.0 as double)) AS wind_speed#95, substring(value#82, 70, 1) AS wind_speed_qual#96, (cast(cast(substring(value#82, 88, 5) as float) as double) / cast(10.0 as double)) AS air_temperature#97, substring(value#82, 93, 1) AS air_temperature_qual#98]\n",
      "         :  +- Project [value#82, 2003 AS year#84]\n",
      "         :     +- Relation[value#82] text\n",
      "         +- Relation[USAF#124,WBAN#125,STATION NAME#126,CTRY#127,STATE#128,ICAO#129,LAT#130,LON#131,ELEV(M)#132,BEGIN#133,END#134] csv\n",
      "\n",
      "== Analyzed Logical Plan ==\n",
      "CTRY: string, year: int, min_temp: double, max_temp: double\n",
      "Aggregate [CTRY#127, year#84], [CTRY#127, year#84, min(CASE WHEN (cast(air_temperature_qual#98 as int) = 1) THEN air_temperature#97 END) AS min_temp#358, max(CASE WHEN (cast(air_temperature_qual#98 as int) = 1) THEN air_temperature#97 END) AS max_temp#360]\n",
      "+- Join Inner, ((usaf#87 = USAF#124) && (wban#88 = WBAN#125))\n",
      "   :- Project [year#84, substring(value#82, 5, 6) AS usaf#87, substring(value#82, 11, 5) AS wban#88, substring(value#82, 16, 8) AS date#89, substring(value#82, 24, 4) AS time#90, substring(value#82, 42, 5) AS report_type#91, substring(value#82, 61, 3) AS wind_direction#92, substring(value#82, 64, 1) AS wind_direction_qual#93, substring(value#82, 65, 1) AS wind_observation#94, (cast(cast(substring(value#82, 66, 4) as float) as double) / cast(10.0 as double)) AS wind_speed#95, substring(value#82, 70, 1) AS wind_speed_qual#96, (cast(cast(substring(value#82, 88, 5) as float) as double) / cast(10.0 as double)) AS air_temperature#97, substring(value#82, 93, 1) AS air_temperature_qual#98]\n",
      "   :  +- Project [value#82, 2003 AS year#84]\n",
      "   :     +- Relation[value#82] text\n",
      "   +- Relation[USAF#124,WBAN#125,STATION NAME#126,CTRY#127,STATE#128,ICAO#129,LAT#130,LON#131,ELEV(M)#132,BEGIN#133,END#134] csv\n",
      "\n",
      "== Optimized Logical Plan ==\n",
      "Aggregate [CTRY#127, year#84], [CTRY#127, year#84, min(CASE WHEN (cast(air_temperature_qual#98 as int) = 1) THEN air_temperature#97 END) AS min_temp#358, max(CASE WHEN (cast(air_temperature_qual#98 as int) = 1) THEN air_temperature#97 END) AS max_temp#360]\n",
      "+- Project [year#84, air_temperature#97, air_temperature_qual#98, CTRY#127]\n",
      "   +- Join Inner, ((usaf#87 = USAF#124) && (wban#88 = WBAN#125))\n",
      "      :- Project [year#84, usaf#87, wban#88, air_temperature#97, air_temperature_qual#98]\n",
      "      :  +- Filter (isnotnull(usaf#87) && isnotnull(wban#88))\n",
      "      :     +- InMemoryRelation [year#84, usaf#87, wban#88, date#89, time#90, report_type#91, wind_direction#92, wind_direction_qual#93, wind_observation#94, wind_speed#95, wind_speed_qual#96, air_temperature#97, air_temperature_qual#98], true, 10000, StorageLevel(disk, memory, deserialized, 1 replicas)\n",
      "      :           +- *(1) Project [2003 AS year#84, substring(value#82, 5, 6) AS usaf#87, substring(value#82, 11, 5) AS wban#88, substring(value#82, 16, 8) AS date#89, substring(value#82, 24, 4) AS time#90, substring(value#82, 42, 5) AS report_type#91, substring(value#82, 61, 3) AS wind_direction#92, substring(value#82, 64, 1) AS wind_direction_qual#93, substring(value#82, 65, 1) AS wind_observation#94, (cast(cast(substring(value#82, 66, 4) as float) as double) / 10.0) AS wind_speed#95, substring(value#82, 70, 1) AS wind_speed_qual#96, (cast(cast(substring(value#82, 88, 5) as float) as double) / 10.0) AS air_temperature#97, substring(value#82, 93, 1) AS air_temperature_qual#98]\n",
      "      :              +- *(1) FileScan text [value#82] Batched: false, Format: Text, Location: InMemoryFileIndex[s3://dimajix-training/data/weather/2003], PartitionFilters: [], PushedFilters: [], ReadSchema: struct<value:string>\n",
      "      +- Project [USAF#124, WBAN#125, CTRY#127]\n",
      "         +- Filter (isnotnull(USAF#124) && isnotnull(WBAN#125))\n",
      "            +- Relation[USAF#124,WBAN#125,STATION NAME#126,CTRY#127,STATE#128,ICAO#129,LAT#130,LON#131,ELEV(M)#132,BEGIN#133,END#134] csv\n",
      "\n",
      "== Physical Plan ==\n",
      "*(3) HashAggregate(keys=[CTRY#127, year#84], functions=[min(CASE WHEN (cast(air_temperature_qual#98 as int) = 1) THEN air_temperature#97 END), max(CASE WHEN (cast(air_temperature_qual#98 as int) = 1) THEN air_temperature#97 END)], output=[CTRY#127, year#84, min_temp#358, max_temp#360])\n",
      "+- Exchange hashpartitioning(CTRY#127, year#84, 200)\n",
      "   +- *(2) HashAggregate(keys=[CTRY#127, year#84], functions=[partial_min(CASE WHEN (cast(air_temperature_qual#98 as int) = 1) THEN air_temperature#97 END), partial_max(CASE WHEN (cast(air_temperature_qual#98 as int) = 1) THEN air_temperature#97 END)], output=[CTRY#127, year#84, min#432, max#433])\n",
      "      +- *(2) Project [year#84, air_temperature#97, air_temperature_qual#98, CTRY#127]\n",
      "         +- *(2) BroadcastHashJoin [usaf#87, wban#88], [USAF#124, WBAN#125], Inner, BuildRight\n",
      "            :- *(2) Filter (isnotnull(usaf#87) && isnotnull(wban#88))\n",
      "            :  +- InMemoryTableScan [year#84, usaf#87, wban#88, air_temperature#97, air_temperature_qual#98], [isnotnull(usaf#87), isnotnull(wban#88)]\n",
      "            :        +- InMemoryRelation [year#84, usaf#87, wban#88, date#89, time#90, report_type#91, wind_direction#92, wind_direction_qual#93, wind_observation#94, wind_speed#95, wind_speed_qual#96, air_temperature#97, air_temperature_qual#98], true, 10000, StorageLevel(disk, memory, deserialized, 1 replicas)\n",
      "            :              +- *(1) Project [2003 AS year#84, substring(value#82, 5, 6) AS usaf#87, substring(value#82, 11, 5) AS wban#88, substring(value#82, 16, 8) AS date#89, substring(value#82, 24, 4) AS time#90, substring(value#82, 42, 5) AS report_type#91, substring(value#82, 61, 3) AS wind_direction#92, substring(value#82, 64, 1) AS wind_direction_qual#93, substring(value#82, 65, 1) AS wind_observation#94, (cast(cast(substring(value#82, 66, 4) as float) as double) / 10.0) AS wind_speed#95, substring(value#82, 70, 1) AS wind_speed_qual#96, (cast(cast(substring(value#82, 88, 5) as float) as double) / 10.0) AS air_temperature#97, substring(value#82, 93, 1) AS air_temperature_qual#98]\n",
      "            :                 +- *(1) FileScan text [value#82] Batched: false, Format: Text, Location: InMemoryFileIndex[s3://dimajix-training/data/weather/2003], PartitionFilters: [], PushedFilters: [], ReadSchema: struct<value:string>\n",
      "            +- BroadcastExchange HashedRelationBroadcastMode(List(input[0, string, true], input[1, string, true]))\n",
      "               +- *(1) Project [USAF#124, WBAN#125, CTRY#127]\n",
      "                  +- *(1) Filter (isnotnull(USAF#124) && isnotnull(WBAN#125))\n",
      "                     +- *(1) FileScan csv [USAF#124,WBAN#125,CTRY#127] Batched: false, Format: CSV, Location: InMemoryFileIndex[s3://dimajix-training/data/weather/isd-history], PartitionFilters: [], PushedFilters: [IsNotNull(USAF), IsNotNull(WBAN)], ReadSchema: struct<USAF:string,WBAN:string,CTRY:string>\n"
     ]
    }
   ],
   "source": [
    "result = df.groupBy(df.CTRY, df.year).agg(\n",
    "        min(when(df.air_temperature_qual == lit(1), df.air_temperature)).alias('min_temp'),\n",
    "        max(when(df.air_temperature_qual == lit(1), df.air_temperature)).alias('max_temp')\n",
    "    )\n",
    "result.explain(True)"
   ]
  },
  {
   "cell_type": "markdown",
   "metadata": {},
   "source": [
    "Things to note:\n",
    "* Cache always consists of two steps:\n",
    "  * InMemoryRelation (building the cache)\n",
    "  * InMemoryTableScan (reading the cache)\n",
    "* Cache contains ALL columns of weather\n",
    "* Filter operation of JOIN is performed after caching\n",
    "\n",
    "Caching is an optimization barrier!"
   ]
  },
  {
   "cell_type": "markdown",
   "metadata": {},
   "source": [
    "## 2.2 Uncaching Data"
   ]
  },
  {
   "cell_type": "code",
   "execution_count": 27,
   "metadata": {},
   "outputs": [
    {
     "data": {
      "text/plain": [
       "DataFrame[year: int, usaf: string, wban: string, date: string, time: string, report_type: string, wind_direction: string, wind_direction_qual: string, wind_observation: string, wind_speed: double, wind_speed_qual: string, air_temperature: double, air_temperature_qual: string]"
      ]
     },
     "execution_count": 27,
     "metadata": {},
     "output_type": "execute_result"
    }
   ],
   "source": [
    "weather.unpersist(True)"
   ]
  },
  {
   "cell_type": "code",
   "execution_count": 28,
   "metadata": {},
   "outputs": [
    {
     "name": "stdout",
     "output_type": "stream",
     "text": [
      "== Parsed Logical Plan ==\n",
      "'Project [unresolvedalias('year, None), substring('value, 5, 6) AS usaf#87, substring('value, 11, 5) AS wban#88, substring('value, 16, 8) AS date#89, substring('value, 24, 4) AS time#90, substring('value, 42, 5) AS report_type#91, substring('value, 61, 3) AS wind_direction#92, substring('value, 64, 1) AS wind_direction_qual#93, substring('value, 65, 1) AS wind_observation#94, (cast(substring('value, 66, 4) as float) / 10.0) AS wind_speed#95, substring('value, 70, 1) AS wind_speed_qual#96, (cast(substring('value, 88, 5) as float) / 10.0) AS air_temperature#97, substring('value, 93, 1) AS air_temperature_qual#98]\n",
      "+- AnalysisBarrier\n",
      "      +- Project [value#82, 2003 AS year#84]\n",
      "         +- Relation[value#82] text\n",
      "\n",
      "== Analyzed Logical Plan ==\n",
      "year: int, usaf: string, wban: string, date: string, time: string, report_type: string, wind_direction: string, wind_direction_qual: string, wind_observation: string, wind_speed: double, wind_speed_qual: string, air_temperature: double, air_temperature_qual: string\n",
      "Project [year#84, substring(value#82, 5, 6) AS usaf#87, substring(value#82, 11, 5) AS wban#88, substring(value#82, 16, 8) AS date#89, substring(value#82, 24, 4) AS time#90, substring(value#82, 42, 5) AS report_type#91, substring(value#82, 61, 3) AS wind_direction#92, substring(value#82, 64, 1) AS wind_direction_qual#93, substring(value#82, 65, 1) AS wind_observation#94, (cast(cast(substring(value#82, 66, 4) as float) as double) / cast(10.0 as double)) AS wind_speed#95, substring(value#82, 70, 1) AS wind_speed_qual#96, (cast(cast(substring(value#82, 88, 5) as float) as double) / cast(10.0 as double)) AS air_temperature#97, substring(value#82, 93, 1) AS air_temperature_qual#98]\n",
      "+- Project [value#82, 2003 AS year#84]\n",
      "   +- Relation[value#82] text\n",
      "\n",
      "== Optimized Logical Plan ==\n",
      "InMemoryRelation [year#84, usaf#87, wban#88, date#89, time#90, report_type#91, wind_direction#92, wind_direction_qual#93, wind_observation#94, wind_speed#95, wind_speed_qual#96, air_temperature#97, air_temperature_qual#98], true, 10000, StorageLevel(disk, memory, deserialized, 1 replicas)\n",
      "   +- *(1) Project [2003 AS year#84, substring(value#82, 5, 6) AS usaf#87, substring(value#82, 11, 5) AS wban#88, substring(value#82, 16, 8) AS date#89, substring(value#82, 24, 4) AS time#90, substring(value#82, 42, 5) AS report_type#91, substring(value#82, 61, 3) AS wind_direction#92, substring(value#82, 64, 1) AS wind_direction_qual#93, substring(value#82, 65, 1) AS wind_observation#94, (cast(cast(substring(value#82, 66, 4) as float) as double) / 10.0) AS wind_speed#95, substring(value#82, 70, 1) AS wind_speed_qual#96, (cast(cast(substring(value#82, 88, 5) as float) as double) / 10.0) AS air_temperature#97, substring(value#82, 93, 1) AS air_temperature_qual#98]\n",
      "      +- *(1) FileScan text [value#82] Batched: false, Format: Text, Location: InMemoryFileIndex[s3://dimajix-training/data/weather/2003], PartitionFilters: [], PushedFilters: [], ReadSchema: struct<value:string>\n",
      "\n",
      "== Physical Plan ==\n",
      "InMemoryTableScan [year#84, usaf#87, wban#88, date#89, time#90, report_type#91, wind_direction#92, wind_direction_qual#93, wind_observation#94, wind_speed#95, wind_speed_qual#96, air_temperature#97, air_temperature_qual#98]\n",
      "   +- InMemoryRelation [year#84, usaf#87, wban#88, date#89, time#90, report_type#91, wind_direction#92, wind_direction_qual#93, wind_observation#94, wind_speed#95, wind_speed_qual#96, air_temperature#97, air_temperature_qual#98], true, 10000, StorageLevel(disk, memory, deserialized, 1 replicas)\n",
      "         +- *(1) Project [2003 AS year#84, substring(value#82, 5, 6) AS usaf#87, substring(value#82, 11, 5) AS wban#88, substring(value#82, 16, 8) AS date#89, substring(value#82, 24, 4) AS time#90, substring(value#82, 42, 5) AS report_type#91, substring(value#82, 61, 3) AS wind_direction#92, substring(value#82, 64, 1) AS wind_direction_qual#93, substring(value#82, 65, 1) AS wind_observation#94, (cast(cast(substring(value#82, 66, 4) as float) as double) / 10.0) AS wind_speed#95, substring(value#82, 70, 1) AS wind_speed_qual#96, (cast(cast(substring(value#82, 88, 5) as float) as double) / 10.0) AS air_temperature#97, substring(value#82, 93, 1) AS air_temperature_qual#98]\n",
      "            +- *(1) FileScan text [value#82] Batched: false, Format: Text, Location: InMemoryFileIndex[s3://dimajix-training/data/weather/2003], PartitionFilters: [], PushedFilters: [], ReadSchema: struct<value:string>\n"
     ]
    }
   ],
   "source": [
    "weather.explain(True)"
   ]
  },
  {
   "cell_type": "markdown",
   "metadata": {},
   "source": [
    "Strange, the execution plan still shows an InMemory relation. But checking the UI shows that storage has been freed up"
   ]
  },
  {
   "cell_type": "code",
   "execution_count": 29,
   "metadata": {},
   "outputs": [
    {
     "data": {
      "text/plain": [
       "1798753"
      ]
     },
     "execution_count": 29,
     "metadata": {},
     "output_type": "execute_result"
    }
   ],
   "source": [
    "weather.count()"
   ]
  },
  {
   "cell_type": "markdown",
   "metadata": {},
   "source": [
    "This also didn't recreate the storage. This seems to be a bug in PySpark."
   ]
  },
  {
   "cell_type": "markdown",
   "metadata": {},
   "source": [
    "# 3 Cache Levels"
   ]
  },
  {
   "cell_type": "code",
   "execution_count": 10,
   "metadata": {},
   "outputs": [
    {
     "data": {
      "text/plain": [
       "DataFrame[year: int, usaf: string, wban: string, date: string, time: string, report_type: string, wind_direction: string, wind_direction_qual: string, wind_observation: string, wind_speed: double, wind_speed_qual: string, air_temperature: double, air_temperature_qual: string]"
      ]
     },
     "execution_count": 10,
     "metadata": {},
     "output_type": "execute_result"
    }
   ],
   "source": [
    "from pyspark.storagelevel import StorageLevel\n",
    "\n",
    "weather.persist(StorageLevel.MEMORY_ONLY)\n",
    "weather.persist(StorageLevel.MEMORY_ONLY_SER)\n",
    "weather.persist(StorageLevel.DISK_ONLY)\n",
    "weather.persist(StorageLevel.MEMORY_AND_DISK)\n",
    "\n",
    "weather.persist(StorageLevel.MEMORY_ONLY_2)\n",
    "weather.persist(StorageLevel.MEMORY_ONLY_SER_2)\n",
    "weather.persist(StorageLevel.DISK_ONLY_2)\n",
    "weather.persist(StorageLevel.MEMORY_AND_DISK_2)\n"
   ]
  },
  {
   "cell_type": "code",
   "execution_count": null,
   "metadata": {},
   "outputs": [],
   "source": []
  }
 ],
 "metadata": {
  "kernelspec": {
   "display_name": "PySpark 2.3 (Python 3)",
   "language": "python",
   "name": "pyspark3"
  },
  "language_info": {
   "codemirror_mode": {
    "name": "ipython",
    "version": 3
   },
   "file_extension": ".py",
   "mimetype": "text/x-python",
   "name": "python",
   "nbconvert_exporter": "python",
   "pygments_lexer": "ipython3",
   "version": "3.6.5"
  }
 },
 "nbformat": 4,
 "nbformat_minor": 2
}
