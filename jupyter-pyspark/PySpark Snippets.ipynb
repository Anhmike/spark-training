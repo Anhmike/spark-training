{
 "cells": [
  {
   "cell_type": "markdown",
   "metadata": {},
   "source": [
    "# Generating Data"
   ]
  },
  {
   "cell_type": "code",
   "execution_count": 1,
   "metadata": {
    "collapsed": false
   },
   "outputs": [
    {
     "name": "stdout",
     "output_type": "stream",
     "text": [
      "[1, 2, 3, 4, 5]\n"
     ]
    }
   ],
   "source": [
    "rdd = sc.parallelize([1,2,3,4,5])\n",
    "print rdd.collect()"
   ]
  },
  {
   "cell_type": "code",
   "execution_count": 1,
   "metadata": {
    "collapsed": false
   },
   "outputs": [
    {
     "name": "stdout",
     "output_type": "stream",
     "text": [
      "[1, 4, 7, 10, 13, 16, 19, 22, 25, 28]\n"
     ]
    }
   ],
   "source": [
    "rdd = sc.parallelize(xrange(1,31,3))\n",
    "print rdd.collect()"
   ]
  },
  {
   "cell_type": "code",
   "execution_count": 2,
   "metadata": {
    "collapsed": false
   },
   "outputs": [
    {
     "name": "stdout",
     "output_type": "stream",
     "text": [
      "[1, 4, 7, 10, 13, 16, 19, 22, 25, 28]\n"
     ]
    }
   ],
   "source": [
    "rdd = sc.range(1,31,3)\n",
    "print rdd.collect()"
   ]
  },
  {
   "cell_type": "markdown",
   "metadata": {},
   "source": [
    "# Loading Data from HDFS"
   ]
  },
  {
   "cell_type": "code",
   "execution_count": 3,
   "metadata": {
    "collapsed": false
   },
   "outputs": [
    {
     "name": "stdout",
     "output_type": "stream",
     "text": [
      "[u\"Project Gutenberg's Alice's Adventures in Wonderland, by Lewis Carroll\", u'', u'This eBook is for the use of anyone anywhere at no cost and with', u'almost no restrictions whatsoever.  You may copy it, give it away or', u're-use it under the terms of the Project Gutenberg License included', u'with this eBook or online at www.gutenberg.org', u'', u'', u\"Title: Alice's Adventures in Wonderland\", u'']\n"
     ]
    }
   ],
   "source": [
    "rdd = sc.textFile('/user/cloudera/alice.txt')\n",
    "print rdd.collect()[0:10]"
   ]
  },
  {
   "cell_type": "markdown",
   "metadata": {},
   "source": [
    "# Retrieving Data"
   ]
  },
  {
   "cell_type": "code",
   "execution_count": 4,
   "metadata": {
    "collapsed": false
   },
   "outputs": [
    {
     "name": "stdout",
     "output_type": "stream",
     "text": [
      "[1, 2, 3, 4, 5, 6, 7, 8, 9]\n"
     ]
    }
   ],
   "source": [
    "rdd = sc.range(1,10)\n",
    "print rdd.collect()"
   ]
  },
  {
   "cell_type": "code",
   "execution_count": 5,
   "metadata": {
    "collapsed": false
   },
   "outputs": [
    {
     "name": "stdout",
     "output_type": "stream",
     "text": [
      "1\n"
     ]
    }
   ],
   "source": [
    "rdd = sc.range(1,1000)\n",
    "print rdd.first()"
   ]
  },
  {
   "cell_type": "code",
   "execution_count": 6,
   "metadata": {
    "collapsed": false
   },
   "outputs": [
    {
     "name": "stdout",
     "output_type": "stream",
     "text": [
      "[u\"Project Gutenberg's Alice's Adventures in Wonderland, by Lewis Carroll\", u'', u'This eBook is for the use of anyone anywhere at no cost and with', u'almost no restrictions whatsoever.  You may copy it, give it away or', u're-use it under the terms of the Project Gutenberg License included', u'with this eBook or online at www.gutenberg.org', u'', u'', u\"Title: Alice's Adventures in Wonderland\", u'']\n"
     ]
    }
   ],
   "source": [
    "rdd = sc.textFile('/user/cloudera/alice.txt')\n",
    "print rdd.take(10)"
   ]
  },
  {
   "cell_type": "code",
   "execution_count": 7,
   "metadata": {
    "collapsed": false
   },
   "outputs": [
    {
     "name": "stdout",
     "output_type": "stream",
     "text": [
      "[u\"'The lobsters!' shouted the Gryphon, with a bound into the air.\", u'array of equipment including outdated equipment.  Many small donations', u'from the public domain (does not contain a notice indicating that it is', u'The Queen turned crimson with fury, and, after glaring at her for a', u'or PGLAF), owns a compilation copyright in the collection of Project', u'', u\"rule, 'and vinegar that makes them sour--and camomile that makes\", u\"'Sure, it does, yer honour: but it's an arm for all that.'\", u\"There was a dead silence instantly, and Alice thought to herself, 'I\", u'']\n"
     ]
    }
   ],
   "source": [
    "rdd = sc.textFile('/user/cloudera/alice.txt')\n",
    "print rdd.takeSample(True, 10)"
   ]
  },
  {
   "cell_type": "markdown",
   "metadata": {},
   "source": [
    "# Simple Transformations: Map"
   ]
  },
  {
   "cell_type": "code",
   "execution_count": 8,
   "metadata": {
    "collapsed": false
   },
   "outputs": [
    {
     "name": "stdout",
     "output_type": "stream",
     "text": [
      "[1, 4, 9, 16, 25, 36, 49, 64, 81]\n"
     ]
    }
   ],
   "source": [
    "rdd = sc.range(1,10)\n",
    "result = rdd.map(lambda x: x**2)\n",
    "print result.collect()"
   ]
  },
  {
   "cell_type": "code",
   "execution_count": 9,
   "metadata": {
    "collapsed": false
   },
   "outputs": [
    {
     "name": "stdout",
     "output_type": "stream",
     "text": [
      "[u'Project', u\"Gutenberg's\", u\"Alice's\", u'Adventures', u'in', u'Wonderland,', u'by', u'Lewis', u'Carroll']\n",
      "[]\n",
      "[u'This', u'eBook', u'is', u'for', u'the', u'use', u'of', u'anyone', u'anywhere', u'at', u'no', u'cost', u'and', u'with']\n",
      "[u'almost', u'no', u'restrictions', u'whatsoever.', u'You', u'may', u'copy', u'it,', u'give', u'it', u'away', u'or']\n",
      "[u're-use', u'it', u'under', u'the', u'terms', u'of', u'the', u'Project', u'Gutenberg', u'License', u'included']\n",
      "[u'with', u'this', u'eBook', u'or', u'online', u'at', u'www.gutenberg.org']\n",
      "[]\n",
      "[]\n",
      "[u'Title:', u\"Alice's\", u'Adventures', u'in', u'Wonderland']\n",
      "[]\n",
      "[u'Author:', u'Lewis', u'Carroll']\n",
      "[]\n",
      "[u'Posting', u'Date:', u'June', u'25,', u'2008', u'[EBook', u'#11]']\n",
      "[u'Release', u'Date:', u'March,', u'1994']\n",
      "[u'[Last', u'updated:', u'December', u'20,', u'2011]']\n",
      "[]\n",
      "[u'Language:', u'English']\n",
      "[]\n",
      "[]\n",
      "[u'***', u'START', u'OF', u'THIS', u'PROJECT', u'GUTENBERG', u'EBOOK', u\"ALICE'S\", u'ADVENTURES', u'IN', u'WONDERLAND', u'***']\n"
     ]
    }
   ],
   "source": [
    "rdd = sc.textFile('/user/cloudera/alice.txt')\n",
    "result = rdd.map(lambda x: x.split())\n",
    "words = result.take(20)\n",
    "for w in words:\n",
    "    print w"
   ]
  },
  {
   "cell_type": "code",
   "execution_count": 10,
   "metadata": {
    "collapsed": false
   },
   "outputs": [
    {
     "name": "stdout",
     "output_type": "stream",
     "text": [
      "Project\n",
      "Gutenberg's\n",
      "Alice's\n",
      "Adventures\n",
      "in\n",
      "Wonderland,\n",
      "by\n",
      "Lewis\n",
      "Carroll\n",
      "This\n",
      "eBook\n",
      "is\n",
      "for\n",
      "the\n",
      "use\n",
      "of\n",
      "anyone\n",
      "anywhere\n",
      "at\n",
      "no\n",
      "cost\n",
      "and\n",
      "with\n",
      "almost\n",
      "no\n",
      "restrictions\n",
      "whatsoever.\n",
      "You\n",
      "may\n",
      "copy\n"
     ]
    }
   ],
   "source": [
    "rdd = sc.textFile('/user/cloudera/alice.txt')\n",
    "result = rdd.flatMap(lambda x: x.split())\n",
    "words = result.take(30)\n",
    "for w in words:\n",
    "    print w"
   ]
  },
  {
   "cell_type": "code",
   "execution_count": 11,
   "metadata": {
    "collapsed": false
   },
   "outputs": [
    {
     "name": "stdout",
     "output_type": "stream",
     "text": [
      "would\n",
      "clearer\n",
      "hardly\n",
      "'--and\n",
      "way,\n",
      "personal\n",
      "to\n",
      "But\n",
      "it\n",
      "double\n",
      "said\n",
      "marked\n",
      "and\n",
      "not\n",
      "said\n",
      "I've\n",
      "the\n",
      "moment\n",
      "you\n",
      "in\n",
      "unable\n",
      "IN\n",
      "sounded\n",
      "tell\n",
      "THE\n",
      "his\n",
      "it.\n",
      "any\n",
      "Project\n",
      "beginning!'\n"
     ]
    }
   ],
   "source": [
    "rdd = sc.textFile('/user/cloudera/alice.txt')\n",
    "result = rdd.flatMap(lambda x: x.split())\n",
    "words = result.takeSample(True, 30)\n",
    "for w in words:\n",
    "    print w"
   ]
  },
  {
   "cell_type": "markdown",
   "metadata": {},
   "source": [
    "# Filtering Data"
   ]
  },
  {
   "cell_type": "code",
   "execution_count": 12,
   "metadata": {
    "collapsed": false
   },
   "outputs": [
    {
     "name": "stdout",
     "output_type": "stream",
     "text": [
      "[2, 4]\n"
     ]
    }
   ],
   "source": [
    "rdd = sc.parallelize([1, 2, 3, 4, 5])\n",
    "result = rdd.filter(lambda x: x % 2 == 0).collect()\n",
    "print result"
   ]
  },
  {
   "cell_type": "markdown",
   "metadata": {},
   "source": [
    "# Aggregations"
   ]
  },
  {
   "cell_type": "code",
   "execution_count": 13,
   "metadata": {
    "collapsed": false
   },
   "outputs": [
    {
     "name": "stdout",
     "output_type": "stream",
     "text": [
      "Count=9\n",
      "Sum=45\n",
      "Mean=5.0\n",
      "Min=1\n",
      "Max=9\n",
      "Variance=6.66666666667\n",
      "Stddev=2.58198889747\n",
      "SampleVariance=7.5\n",
      "SampleStddev=2.73861278753\n"
     ]
    }
   ],
   "source": [
    "rdd = sc.range(1,10)\n",
    "print \"Count=\" + str(rdd.count())\n",
    "print \"Sum=\" + str(rdd.sum())\n",
    "print \"Mean=\" + str(rdd.mean())\n",
    "print \"Min=\" + str(rdd.min())\n",
    "print \"Max=\" + str(rdd.max())\n",
    "print \"Variance=\" + str(rdd.variance())\n",
    "print \"Stddev=\" + str(rdd.stdev())\n",
    "print \"SampleVariance=\" + str(rdd.sampleVariance())\n",
    "print \"SampleStddev=\" + str(rdd.sampleStdev())"
   ]
  },
  {
   "cell_type": "code",
   "execution_count": 14,
   "metadata": {
    "collapsed": false
   },
   "outputs": [
    {
     "name": "stdout",
     "output_type": "stream",
     "text": [
      "(count: 9, mean: 5.0, stdev: 2.58198889747, max: 9.0, min: 1.0)\n"
     ]
    }
   ],
   "source": [
    "rdd = sc.range(1,10)\n",
    "result = rdd.stats()\n",
    "print result"
   ]
  },
  {
   "cell_type": "code",
   "execution_count": 15,
   "metadata": {
    "collapsed": false
   },
   "outputs": [
    {
     "name": "stdout",
     "output_type": "stream",
     "text": [
      "45\n"
     ]
    }
   ],
   "source": [
    "rdd = sc.range(1,10)\n",
    "result = rdd.reduce(lambda x,y: x+y)\n",
    "print result"
   ]
  },
  {
   "cell_type": "code",
   "execution_count": 16,
   "metadata": {
    "collapsed": false
   },
   "outputs": [
    {
     "name": "stdout",
     "output_type": "stream",
     "text": [
      "5.0\n"
     ]
    }
   ],
   "source": [
    "zero = (0.0, 0)\n",
    "reducer = lambda acc,value: (acc[0] + value, acc[1] + 1)\n",
    "combiner = lambda left,right: (left[0] + right[0], left[1] + right[1])\n",
    "\n",
    "rdd = sc.range(1,10)\n",
    "result = rdd.aggregate(zero, reducer, combiner)\n",
    "\n",
    "print result[0]/result[1]"
   ]
  },
  {
   "cell_type": "markdown",
   "metadata": {},
   "source": [
    "# Making Data Distinct"
   ]
  },
  {
   "cell_type": "code",
   "execution_count": 17,
   "metadata": {
    "collapsed": false
   },
   "outputs": [
    {
     "name": "stdout",
     "output_type": "stream",
     "text": [
      "['a', 'b', 'c']\n"
     ]
    }
   ],
   "source": [
    "rdd = sc.parallelize(['b','a','c','c','a'])\n",
    "result = rdd.distinct()\n",
    "print sorted(result.collect())"
   ]
  },
  {
   "cell_type": "markdown",
   "metadata": {},
   "source": [
    "# Working with Key-Value Data"
   ]
  },
  {
   "cell_type": "code",
   "execution_count": 18,
   "metadata": {
    "collapsed": false
   },
   "outputs": [
    {
     "name": "stdout",
     "output_type": "stream",
     "text": [
      "[('a', 1), ('c', 2), ('b', 2)]\n"
     ]
    }
   ],
   "source": [
    "rdd = sc.parallelize([(\"a\",1), (\"b\",3), (\"c\", 17), (\"b\", 23), (\"c\",12)])\n",
    "print rdd.countByKey().items()"
   ]
  },
  {
   "cell_type": "code",
   "execution_count": 19,
   "metadata": {
    "collapsed": false
   },
   "outputs": [
    {
     "name": "stdout",
     "output_type": "stream",
     "text": [
      "[('a', 1), ('c', 2), ('b', 2)]\n"
     ]
    }
   ],
   "source": [
    "rdd = sc.parallelize([\"a\", \"b\", \"c\", \"b\", \"c\"])\n",
    "print rdd.countByValue().items()"
   ]
  },
  {
   "cell_type": "code",
   "execution_count": 20,
   "metadata": {
    "collapsed": false
   },
   "outputs": [
    {
     "name": "stdout",
     "output_type": "stream",
     "text": [
      "[('a', 1), ('c', 29), ('b', 26)]\n"
     ]
    }
   ],
   "source": [
    "rdd = sc.parallelize([(\"a\",1), (\"b\",3), (\"c\", 17), (\"b\", 23), (\"c\",12)])\n",
    "result = rdd.reduceByKey(lambda x,y: x+y)\n",
    "print result.collect()"
   ]
  },
  {
   "cell_type": "code",
   "execution_count": 21,
   "metadata": {
    "collapsed": false
   },
   "outputs": [
    {
     "name": "stdout",
     "output_type": "stream",
     "text": [
      "[('a', 1.0), ('c', 14.5), ('b', 13.0)]\n"
     ]
    }
   ],
   "source": [
    "zero = (0.0, 0)\n",
    "reducer = lambda acc,value: (acc[0] + value, acc[1] + 1)\n",
    "combiner = lambda left,right: (left[0] + right[0], left[1] + right[1])\n",
    "\n",
    "rdd = sc.parallelize([(\"a\",1), (\"b\",3), (\"c\", 17), (\"b\", 23), (\"c\",12)])\n",
    "result = rdd.aggregateByKey(zero, reducer, combiner).mapValues(lambda (x,y): x/y)\n",
    "print result.collect()"
   ]
  },
  {
   "cell_type": "markdown",
   "metadata": {},
   "source": [
    "# Sorting Data"
   ]
  },
  {
   "cell_type": "code",
   "execution_count": 22,
   "metadata": {
    "collapsed": false
   },
   "outputs": [
    {
     "name": "stdout",
     "output_type": "stream",
     "text": [
      "['c', 'c', 'b', 'a', 'a']\n"
     ]
    }
   ],
   "source": [
    "rdd = sc.parallelize(['b','a','c','c','a'])\n",
    "result = rdd.sortBy(lambda x: x, ascending=False)\n",
    "print result.collect()"
   ]
  },
  {
   "cell_type": "code",
   "execution_count": 23,
   "metadata": {
    "collapsed": false
   },
   "outputs": [
    {
     "name": "stdout",
     "output_type": "stream",
     "text": [
      "[('a', 1), ('b', 23), ('b', 3), ('c', 17), ('c', 12)]\n"
     ]
    }
   ],
   "source": [
    "rdd = sc.parallelize([(\"a\",1), (\"b\",3), (\"c\", 17), (\"b\", 23), (\"c\",12)])\n",
    "result = rdd.sortByKey()\n",
    "print result.collect()"
   ]
  },
  {
   "cell_type": "markdown",
   "metadata": {},
   "source": [
    "# Grouping Data"
   ]
  },
  {
   "cell_type": "code",
   "execution_count": 24,
   "metadata": {
    "collapsed": false
   },
   "outputs": [
    {
     "name": "stdout",
     "output_type": "stream",
     "text": [
      "[('a', [17, 1]), ('b', [3, 12]), ('c', [23])]\n"
     ]
    }
   ],
   "source": [
    "rdd = sc.parallelize([(\"a\",1), (\"b\",3), (\"a\", 17), (\"c\", 23), (\"b\",12)])\n",
    "result = rdd.groupByKey()\n",
    "print sorted(map(lambda x: (x[0],list(x[1])), result.collect()))"
   ]
  },
  {
   "cell_type": "code",
   "execution_count": 25,
   "metadata": {
    "collapsed": false
   },
   "outputs": [
    {
     "name": "stdout",
     "output_type": "stream",
     "text": [
      "[('Remainder=0', [12, 15, 18, 3, 6, 9]), ('Remainder=1', [1, 4, 7, 10, 13, 16, 19]), ('Remainder=2', [11, 14, 17, 2, 5, 8])]\n"
     ]
    }
   ],
   "source": [
    "rdd = sc.range(1,20)\n",
    "result = rdd.groupBy(lambda x: \"Remainder=\" + str(x % 3))\n",
    "print sorted(map(lambda x: (x[0],list(x[1])), result.collect()))"
   ]
  },
  {
   "cell_type": "code",
   "execution_count": 26,
   "metadata": {
    "collapsed": false
   },
   "outputs": [
    {
     "name": "stdout",
     "output_type": "stream",
     "text": [
      "[('a', 18), ('b', 15), ('c', 23)]\n"
     ]
    }
   ],
   "source": [
    "rdd = sc.parallelize([(\"a\",1), (\"b\",3), (\"a\", 17), (\"c\", 23), (\"b\",12)])\n",
    "result = rdd.groupByKey().mapValues(lambda iter:sum(iter))\n",
    "print sorted(result.collect())"
   ]
  },
  {
   "cell_type": "code",
   "execution_count": 27,
   "metadata": {
    "collapsed": false
   },
   "outputs": [
    {
     "name": "stdout",
     "output_type": "stream",
     "text": [
      "[('a', 18), ('b', 15), ('c', 23)]\n"
     ]
    }
   ],
   "source": [
    "rdd = sc.parallelize([(\"a\",1), (\"b\",3), (\"a\", 17), (\"c\", 23), (\"b\",12)])\n",
    "result = rdd.reduceByKey(lambda x,y: x + y)\n",
    "print sorted(result.collect())"
   ]
  },
  {
   "cell_type": "markdown",
   "metadata": {},
   "source": [
    "# Joining Data"
   ]
  },
  {
   "cell_type": "code",
   "execution_count": 28,
   "metadata": {
    "collapsed": false
   },
   "outputs": [
    {
     "name": "stdout",
     "output_type": "stream",
     "text": [
      "[('a', (1, 2)), ('b', (4, None)), ('c', (None, 8))]\n"
     ]
    }
   ],
   "source": [
    "x = sc.parallelize([(\"a\", 1), (\"b\", 4)])\n",
    "y = sc.parallelize([(\"a\", 2), (\"c\", 8)])\n",
    "result = x.fullOuterJoin(y).collect()\n",
    "print sorted(result)"
   ]
  },
  {
   "cell_type": "code",
   "execution_count": 29,
   "metadata": {
    "collapsed": false
   },
   "outputs": [
    {
     "name": "stdout",
     "output_type": "stream",
     "text": [
      "[('a', (1, 2))]\n"
     ]
    }
   ],
   "source": [
    "x = sc.parallelize([(\"a\", 1), (\"b\", 4)])\n",
    "y = sc.parallelize([(\"a\", 2), (\"c\", 8)])\n",
    "result = x.join(y).collect()\n",
    "print sorted(result)"
   ]
  },
  {
   "cell_type": "code",
   "execution_count": 30,
   "metadata": {
    "collapsed": false
   },
   "outputs": [
    {
     "name": "stdout",
     "output_type": "stream",
     "text": [
      "[('a', (1, 2)), ('b', (4, None))]\n"
     ]
    }
   ],
   "source": [
    "x = sc.parallelize([(\"a\", 1), (\"b\", 4)])\n",
    "y = sc.parallelize([(\"a\", 2), (\"c\", 8)])\n",
    "result = x.leftOuterJoin(y).collect()\n",
    "print sorted(result)"
   ]
  },
  {
   "cell_type": "code",
   "execution_count": 31,
   "metadata": {
    "collapsed": false
   },
   "outputs": [
    {
     "name": "stdout",
     "output_type": "stream",
     "text": [
      "[('a', (1, 2)), ('c', (None, 8))]\n"
     ]
    }
   ],
   "source": [
    "x = sc.parallelize([(\"a\", 1), (\"b\", 4)])\n",
    "y = sc.parallelize([(\"a\", 2), (\"c\", 8)])\n",
    "result = x.rightOuterJoin(y).collect()\n",
    "print sorted(result)"
   ]
  },
  {
   "cell_type": "markdown",
   "metadata": {},
   "source": [
    "# Sampling and Splitting"
   ]
  },
  {
   "cell_type": "code",
   "execution_count": 32,
   "metadata": {
    "collapsed": false
   },
   "outputs": [
    {
     "name": "stdout",
     "output_type": "stream",
     "text": [
      "800\n"
     ]
    }
   ],
   "source": [
    "rdd = sc.range(0,1000)\n",
    "result = rdd.sample(False, 0.8, seed=124)\n",
    "print result.count()"
   ]
  },
  {
   "cell_type": "code",
   "execution_count": 33,
   "metadata": {
    "collapsed": false
   },
   "outputs": [
    {
     "name": "stdout",
     "output_type": "stream",
     "text": [
      "#A: 803\n",
      "#B: 197\n"
     ]
    }
   ],
   "source": [
    "rdd = sc.range(0,1000)\n",
    "a,b = rdd.randomSplit([8,2], seed=12)\n",
    "print \"#A: \" + str(a.count())\n",
    "print \"#B: \" + str(b.count())"
   ]
  },
  {
   "cell_type": "markdown",
   "metadata": {},
   "source": [
    "# Caching Data"
   ]
  },
  {
   "cell_type": "code",
   "execution_count": 1,
   "metadata": {
    "collapsed": false
   },
   "outputs": [
    {
     "data": {
      "text/plain": [
       "499500"
      ]
     },
     "execution_count": 1,
     "metadata": {},
     "output_type": "execute_result"
    }
   ],
   "source": [
    "rdd = sc.range(0,1000)\n",
    "rdd.setName(\"0 to 1000\")\n",
    "rdd.cache()\n",
    "rdd.reduce(lambda x,y:x + y)"
   ]
  },
  {
   "cell_type": "code",
   "execution_count": 2,
   "metadata": {
    "collapsed": false
   },
   "outputs": [
    {
     "data": {
      "text/plain": [
       "0 to 1000 PythonRDD[1] at RDD at PythonRDD.scala:43"
      ]
     },
     "execution_count": 2,
     "metadata": {},
     "output_type": "execute_result"
    }
   ],
   "source": [
    "rdd.unpersist()"
   ]
  },
  {
   "cell_type": "markdown",
   "metadata": {},
   "source": [
    "# Storing Data"
   ]
  },
  {
   "cell_type": "code",
   "execution_count": 35,
   "metadata": {
    "collapsed": false
   },
   "outputs": [],
   "source": [
    "rdd = sc.range(0,100)\n",
    "rdd.saveAsTextFile('/user/cloudera/numbers')"
   ]
  },
  {
   "cell_type": "markdown",
   "metadata": {},
   "source": [
    "## Retrieving Data\n",
    "\n",
    "    hdfs dfs -getmerge /user/cloudera/numbers /tmp/numbers.txt\n",
    "    cat /tmp/numbers.txt | head -n10"
   ]
  },
  {
   "cell_type": "markdown",
   "metadata": {},
   "source": [
    "# WordCount Revisited"
   ]
  },
  {
   "cell_type": "code",
   "execution_count": 37,
   "metadata": {
    "collapsed": true
   },
   "outputs": [],
   "source": [
    "text = sc.textFile('/user/cloudera/alice.txt')\n",
    "words = text.flatMap(lambda x: x.split()).map(lambda x: (x,1)).reduceByKey(lambda x,y: x+y).sortBy(lambda x: x[1], ascending=False).map(lambda (k,v): k + ':' + str(v))\n",
    "words.saveAsTextFile('/user/cloudera/alice_counts')"
   ]
  },
  {
   "cell_type": "markdown",
   "metadata": {},
   "source": [
    "## Retrieving Data\n",
    "\n",
    "    hdfs dfs -getmerge /user/cloudera/alice_counts /tmp/alice_counts.txt\n",
    "    cat /tmp/alice_counts.txt | head -n20"
   ]
  },
  {
   "cell_type": "code",
   "execution_count": null,
   "metadata": {
    "collapsed": true
   },
   "outputs": [],
   "source": []
  }
 ],
 "metadata": {
  "kernelspec": {
   "display_name": "Python 2",
   "language": "python",
   "name": "python2"
  },
  "language_info": {
   "codemirror_mode": {
    "name": "ipython",
    "version": 2
   },
   "file_extension": ".py",
   "mimetype": "text/x-python",
   "name": "python",
   "nbconvert_exporter": "python",
   "pygments_lexer": "ipython2",
   "version": "2.7.11"
  }
 },
 "nbformat": 4,
 "nbformat_minor": 0
}
