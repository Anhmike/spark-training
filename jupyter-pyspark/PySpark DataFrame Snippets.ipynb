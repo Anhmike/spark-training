{
 "cells": [
  {
   "cell_type": "markdown",
   "metadata": {},
   "source": [
    "# Creating a DataFrame"
   ]
  },
  {
   "cell_type": "code",
   "execution_count": 1,
   "metadata": {
    "collapsed": false
   },
   "outputs": [
    {
     "name": "stdout",
     "output_type": "stream",
     "text": [
      "[Row(name=u'Alice', age=13), Row(name=u'Bob', age=12)]\n"
     ]
    }
   ],
   "source": [
    "df = sqlContext.createDataFrame([('Alice', 13), ('Bob', 12)], ['name', 'age'])\n",
    "print df.collect()"
   ]
  },
  {
   "cell_type": "code",
   "execution_count": 2,
   "metadata": {
    "collapsed": false
   },
   "outputs": [
    {
     "name": "stdout",
     "output_type": "stream",
     "text": [
      "[Row(name=u'Alice', age=13), Row(name=u'Bob', age=12)]\n"
     ]
    }
   ],
   "source": [
    "rdd = sc.parallelize([('Alice', 13), ('Bob', 12)])\n",
    "df = sqlContext.createDataFrame(rdd, ['name', 'age'])\n",
    "print df.collect()"
   ]
  },
  {
   "cell_type": "markdown",
   "metadata": {},
   "source": [
    "## Inspect Schema"
   ]
  },
  {
   "cell_type": "code",
   "execution_count": 3,
   "metadata": {
    "collapsed": false
   },
   "outputs": [
    {
     "name": "stdout",
     "output_type": "stream",
     "text": [
      "root\n",
      " |-- name: string (nullable = true)\n",
      " |-- age: long (nullable = true)\n",
      "\n"
     ]
    }
   ],
   "source": [
    "df.printSchema()"
   ]
  },
  {
   "cell_type": "markdown",
   "metadata": {},
   "source": [
    "# Explicitly specify Schema"
   ]
  },
  {
   "cell_type": "code",
   "execution_count": 4,
   "metadata": {
    "collapsed": false
   },
   "outputs": [
    {
     "name": "stdout",
     "output_type": "stream",
     "text": [
      "[Row(name=u'Alice', age=13), Row(name=u'Bob', age=12)]\n"
     ]
    }
   ],
   "source": [
    "from pyspark.sql.types import *\n",
    "\n",
    "data = [('Alice', 13), ('Bob', 12)]\n",
    "schema = StructType([\n",
    "    StructField('name', StringType(), True),\n",
    "    StructField('age', IntegerType(), True),\n",
    "    ])\n",
    "    \n",
    "rdd = sc.parallelize(data)\n",
    "df = sqlContext.createDataFrame(rdd, schema)\n",
    "print df.collect()"
   ]
  },
  {
   "cell_type": "code",
   "execution_count": 6,
   "metadata": {
    "collapsed": false
   },
   "outputs": [
    {
     "name": "stdout",
     "output_type": "stream",
     "text": [
      "[Row(name=u'Alice', age=23), Row(name=u'Bob', age=21)]\n"
     ]
    }
   ],
   "source": [
    "from pyspark.sql import Row\n",
    "\n",
    "Person = Row('name','age')\n",
    "alice = Person('Alice',23)\n",
    "bob = Person('Bob',21)\n",
    "df = sqlContext.createDataFrame([alice,bob])\n",
    "print df.collect()"
   ]
  },
  {
   "cell_type": "markdown",
   "metadata": {},
   "source": [
    "# Interacting with Pandas"
   ]
  },
  {
   "cell_type": "code",
   "execution_count": 8,
   "metadata": {
    "collapsed": false
   },
   "outputs": [
    {
     "data": {
      "text/html": [
       "<div>\n",
       "<table border=\"1\" class=\"dataframe\">\n",
       "  <thead>\n",
       "    <tr style=\"text-align: right;\">\n",
       "      <th></th>\n",
       "      <th>name</th>\n",
       "      <th>age</th>\n",
       "    </tr>\n",
       "  </thead>\n",
       "  <tbody>\n",
       "    <tr>\n",
       "      <th>0</th>\n",
       "      <td>Alice</td>\n",
       "      <td>13</td>\n",
       "    </tr>\n",
       "    <tr>\n",
       "      <th>1</th>\n",
       "      <td>Bob</td>\n",
       "      <td>12</td>\n",
       "    </tr>\n",
       "  </tbody>\n",
       "</table>\n",
       "</div>"
      ],
      "text/plain": [
       "    name  age\n",
       "0  Alice   13\n",
       "1    Bob   12"
      ]
     },
     "execution_count": 8,
     "metadata": {},
     "output_type": "execute_result"
    }
   ],
   "source": [
    "df = sqlContext.createDataFrame([('Alice', 13), ('Bob', 12)], ['name', 'age'])\n",
    "pdf = df.toPandas()\n",
    "pdf"
   ]
  },
  {
   "cell_type": "code",
   "execution_count": 10,
   "metadata": {
    "collapsed": false
   },
   "outputs": [
    {
     "data": {
      "text/plain": [
       "<matplotlib.axes._subplots.AxesSubplot at 0x7fd9a2e58050>"
      ]
     },
     "execution_count": 10,
     "metadata": {},
     "output_type": "execute_result"
    },
    {
     "data": {
      "image/png": "[encoded data removed]",
      "text/plain": [
       "<matplotlib.figure.Figure at 0x7fd9a2e616d0>"
      ]
     },
     "metadata": {},
     "output_type": "display_data"
    }
   ],
   "source": [
    "%matplotlib inline\n",
    "pdf.plot()"
   ]
  },
  {
   "cell_type": "markdown",
   "metadata": {},
   "source": [
    "# Selecting Columns"
   ]
  },
  {
   "cell_type": "code",
   "execution_count": 12,
   "metadata": {
    "collapsed": false
   },
   "outputs": [
    {
     "data": {
      "text/html": [
       "<div>\n",
       "<table border=\"1\" class=\"dataframe\">\n",
       "  <thead>\n",
       "    <tr style=\"text-align: right;\">\n",
       "      <th></th>\n",
       "      <th>name</th>\n",
       "      <th>age</th>\n",
       "    </tr>\n",
       "  </thead>\n",
       "  <tbody>\n",
       "    <tr>\n",
       "      <th>0</th>\n",
       "      <td>Alice</td>\n",
       "      <td>13</td>\n",
       "    </tr>\n",
       "    <tr>\n",
       "      <th>1</th>\n",
       "      <td>Bob</td>\n",
       "      <td>12</td>\n",
       "    </tr>\n",
       "  </tbody>\n",
       "</table>\n",
       "</div>"
      ],
      "text/plain": [
       "    name  age\n",
       "0  Alice   13\n",
       "1    Bob   12"
      ]
     },
     "execution_count": 12,
     "metadata": {},
     "output_type": "execute_result"
    }
   ],
   "source": [
    "from pyspark.sql.functions import *\n",
    "\n",
    "df = sqlContext.createDataFrame([('Alice', 13), ('Bob', 12)], ['name', 'age'])\n",
    "result = df.select('name', col('age'))\n",
    "result.toPandas()"
   ]
  },
  {
   "cell_type": "code",
   "execution_count": 13,
   "metadata": {
    "collapsed": false
   },
   "outputs": [
    {
     "data": {
      "text/html": [
       "<div>\n",
       "<table border=\"1\" class=\"dataframe\">\n",
       "  <thead>\n",
       "    <tr style=\"text-align: right;\">\n",
       "      <th></th>\n",
       "      <th>name</th>\n",
       "    </tr>\n",
       "  </thead>\n",
       "  <tbody>\n",
       "    <tr>\n",
       "      <th>0</th>\n",
       "      <td>Alice</td>\n",
       "    </tr>\n",
       "    <tr>\n",
       "      <th>1</th>\n",
       "      <td>Bob</td>\n",
       "    </tr>\n",
       "  </tbody>\n",
       "</table>\n",
       "</div>"
      ],
      "text/plain": [
       "    name\n",
       "0  Alice\n",
       "1    Bob"
      ]
     },
     "execution_count": 13,
     "metadata": {},
     "output_type": "execute_result"
    }
   ],
   "source": [
    "df = sqlContext.createDataFrame([('Alice', 13), ('Bob', 12)], ['name', 'age'])\n",
    "result = df.select(df.name)\n",
    "result.toPandas()"
   ]
  },
  {
   "cell_type": "markdown",
   "metadata": {},
   "source": [
    "# Injecting Literal Values"
   ]
  },
  {
   "cell_type": "code",
   "execution_count": 14,
   "metadata": {
    "collapsed": false
   },
   "outputs": [
    {
     "data": {
      "text/html": [
       "<div>\n",
       "<table border=\"1\" class=\"dataframe\">\n",
       "  <thead>\n",
       "    <tr style=\"text-align: right;\">\n",
       "      <th></th>\n",
       "      <th>text</th>\n",
       "    </tr>\n",
       "  </thead>\n",
       "  <tbody>\n",
       "    <tr>\n",
       "      <th>0</th>\n",
       "      <td>Name:Alice Age:13</td>\n",
       "    </tr>\n",
       "    <tr>\n",
       "      <th>1</th>\n",
       "      <td>Name:Bob Age:12</td>\n",
       "    </tr>\n",
       "  </tbody>\n",
       "</table>\n",
       "</div>"
      ],
      "text/plain": [
       "                text\n",
       "0  Name:Alice Age:13\n",
       "1    Name:Bob Age:12"
      ]
     },
     "execution_count": 14,
     "metadata": {},
     "output_type": "execute_result"
    }
   ],
   "source": [
    "df = sqlContext.createDataFrame([('Alice', 13), ('Bob', 12)], ['name', 'age'])\n",
    "result = df.select(concat(lit('Name:'), df.name, lit(' Age:'), df.age).alias('text'))\n",
    "result.toPandas()"
   ]
  },
  {
   "cell_type": "markdown",
   "metadata": {},
   "source": [
    "# Simple Transformations "
   ]
  },
  {
   "cell_type": "code",
   "execution_count": 16,
   "metadata": {
    "collapsed": false
   },
   "outputs": [
    {
     "data": {
      "text/html": [
       "<div>\n",
       "<table border=\"1\" class=\"dataframe\">\n",
       "  <thead>\n",
       "    <tr style=\"text-align: right;\">\n",
       "      <th></th>\n",
       "      <th>name</th>\n",
       "      <th>upper_name</th>\n",
       "    </tr>\n",
       "  </thead>\n",
       "  <tbody>\n",
       "    <tr>\n",
       "      <th>0</th>\n",
       "      <td>Alice</td>\n",
       "      <td>ALICE</td>\n",
       "    </tr>\n",
       "    <tr>\n",
       "      <th>1</th>\n",
       "      <td>Bob</td>\n",
       "      <td>BOB</td>\n",
       "    </tr>\n",
       "  </tbody>\n",
       "</table>\n",
       "</div>"
      ],
      "text/plain": [
       "    name upper_name\n",
       "0  Alice      ALICE\n",
       "1    Bob        BOB"
      ]
     },
     "execution_count": 16,
     "metadata": {},
     "output_type": "execute_result"
    }
   ],
   "source": [
    "from pyspark.sql.functions import *\n",
    "\n",
    "df = sqlContext.createDataFrame([('Alice', 13), ('Bob', 12)], ['name', 'age'])\n",
    "result = df.select(df.name, upper(df.name).alias('upper_name'))\n",
    "result.toPandas()"
   ]
  },
  {
   "cell_type": "code",
   "execution_count": 17,
   "metadata": {
    "collapsed": false
   },
   "outputs": [
    {
     "data": {
      "text/html": [
       "<div>\n",
       "<table border=\"1\" class=\"dataframe\">\n",
       "  <thead>\n",
       "    <tr style=\"text-align: right;\">\n",
       "      <th></th>\n",
       "      <th>name</th>\n",
       "      <th>age_sqr</th>\n",
       "    </tr>\n",
       "  </thead>\n",
       "  <tbody>\n",
       "    <tr>\n",
       "      <th>0</th>\n",
       "      <td>Alice</td>\n",
       "      <td>169.0</td>\n",
       "    </tr>\n",
       "    <tr>\n",
       "      <th>1</th>\n",
       "      <td>Bob</td>\n",
       "      <td>144.0</td>\n",
       "    </tr>\n",
       "  </tbody>\n",
       "</table>\n",
       "</div>"
      ],
      "text/plain": [
       "    name  age_sqr\n",
       "0  Alice    169.0\n",
       "1    Bob    144.0"
      ]
     },
     "execution_count": 17,
     "metadata": {},
     "output_type": "execute_result"
    }
   ],
   "source": [
    "from pyspark.sql.functions import *\n",
    "\n",
    "df = sqlContext.createDataFrame([('Alice', 13), ('Bob', 12)], ['name', 'age'])\n",
    "result = df.select(df.name, (df.age**2).alias('age_sqr'))\n",
    "result.toPandas()"
   ]
  },
  {
   "cell_type": "code",
   "execution_count": 18,
   "metadata": {
    "collapsed": false
   },
   "outputs": [
    {
     "data": {
      "text/html": [
       "<div>\n",
       "<table border=\"1\" class=\"dataframe\">\n",
       "  <thead>\n",
       "    <tr style=\"text-align: right;\">\n",
       "      <th></th>\n",
       "      <th>name_age</th>\n",
       "    </tr>\n",
       "  </thead>\n",
       "  <tbody>\n",
       "    <tr>\n",
       "      <th>0</th>\n",
       "      <td>Alice_13</td>\n",
       "    </tr>\n",
       "    <tr>\n",
       "      <th>1</th>\n",
       "      <td>Bob_12</td>\n",
       "    </tr>\n",
       "  </tbody>\n",
       "</table>\n",
       "</div>"
      ],
      "text/plain": [
       "   name_age\n",
       "0  Alice_13\n",
       "1    Bob_12"
      ]
     },
     "execution_count": 18,
     "metadata": {},
     "output_type": "execute_result"
    }
   ],
   "source": [
    "from pyspark.sql.functions import *\n",
    "\n",
    "df = sqlContext.createDataFrame([('Alice', 13), ('Bob', 12)], ['name', 'age'])\n",
    "result = df.select(\n",
    "        concat(\n",
    "            df.name,\n",
    "            lit('_'),\n",
    "            df.age.cast('string')\n",
    "        ).alias('name_age')\n",
    "    )\n",
    "result.toPandas()"
   ]
  },
  {
   "cell_type": "code",
   "execution_count": 2,
   "metadata": {
    "collapsed": false
   },
   "outputs": [
    {
     "data": {
      "text/html": [
       "<div>\n",
       "<table border=\"1\" class=\"dataframe\">\n",
       "  <thead>\n",
       "    <tr style=\"text-align: right;\">\n",
       "      <th></th>\n",
       "      <th>number</th>\n",
       "      <th>text</th>\n",
       "    </tr>\n",
       "  </thead>\n",
       "  <tbody>\n",
       "    <tr>\n",
       "      <th>0</th>\n",
       "      <td>0</td>\n",
       "      <td>even</td>\n",
       "    </tr>\n",
       "    <tr>\n",
       "      <th>1</th>\n",
       "      <td>1</td>\n",
       "      <td>odd</td>\n",
       "    </tr>\n",
       "    <tr>\n",
       "      <th>2</th>\n",
       "      <td>2</td>\n",
       "      <td>even</td>\n",
       "    </tr>\n",
       "    <tr>\n",
       "      <th>3</th>\n",
       "      <td>3</td>\n",
       "      <td>odd</td>\n",
       "    </tr>\n",
       "    <tr>\n",
       "      <th>4</th>\n",
       "      <td>4</td>\n",
       "      <td>even</td>\n",
       "    </tr>\n",
       "    <tr>\n",
       "      <th>5</th>\n",
       "      <td>5</td>\n",
       "      <td>odd</td>\n",
       "    </tr>\n",
       "    <tr>\n",
       "      <th>6</th>\n",
       "      <td>6</td>\n",
       "      <td>even</td>\n",
       "    </tr>\n",
       "    <tr>\n",
       "      <th>7</th>\n",
       "      <td>7</td>\n",
       "      <td>odd</td>\n",
       "    </tr>\n",
       "    <tr>\n",
       "      <th>8</th>\n",
       "      <td>8</td>\n",
       "      <td>even</td>\n",
       "    </tr>\n",
       "    <tr>\n",
       "      <th>9</th>\n",
       "      <td>9</td>\n",
       "      <td>odd</td>\n",
       "    </tr>\n",
       "  </tbody>\n",
       "</table>\n",
       "</div>"
      ],
      "text/plain": [
       "   number  text\n",
       "0       0  even\n",
       "1       1   odd\n",
       "2       2  even\n",
       "3       3   odd\n",
       "4       4  even\n",
       "5       5   odd\n",
       "6       6  even\n",
       "7       7   odd\n",
       "8       8  even\n",
       "9       9   odd"
      ]
     },
     "execution_count": 2,
     "metadata": {},
     "output_type": "execute_result"
    }
   ],
   "source": [
    "from pyspark.sql.functions import *\n",
    "\n",
    "df = sqlContext.createDataFrame([(x,) for x in range(0,10)], ['number'])\n",
    "result = df.select(\n",
    "        df.number,\n",
    "        when(df.number % 2 == 0, 'even').otherwise('odd').alias('text')\n",
    "    )\n",
    "\n",
    "result.toPandas()"
   ]
  },
  {
   "cell_type": "markdown",
   "metadata": {},
   "source": [
    "# Filtering"
   ]
  },
  {
   "cell_type": "code",
   "execution_count": 3,
   "metadata": {
    "collapsed": false
   },
   "outputs": [
    {
     "data": {
      "text/html": [
       "<div>\n",
       "<table border=\"1\" class=\"dataframe\">\n",
       "  <thead>\n",
       "    <tr style=\"text-align: right;\">\n",
       "      <th></th>\n",
       "      <th>name</th>\n",
       "      <th>age</th>\n",
       "    </tr>\n",
       "  </thead>\n",
       "  <tbody>\n",
       "    <tr>\n",
       "      <th>0</th>\n",
       "      <td>Alice</td>\n",
       "      <td>13</td>\n",
       "    </tr>\n",
       "  </tbody>\n",
       "</table>\n",
       "</div>"
      ],
      "text/plain": [
       "    name  age\n",
       "0  Alice   13"
      ]
     },
     "execution_count": 3,
     "metadata": {},
     "output_type": "execute_result"
    }
   ],
   "source": [
    "df = sqlContext.createDataFrame([('Alice', 13), ('Bob', 12)], ['name', 'age'])\n",
    "result = df.filter(df.age > 12)\n",
    "result.toPandas()"
   ]
  },
  {
   "cell_type": "code",
   "execution_count": 4,
   "metadata": {
    "collapsed": false
   },
   "outputs": [
    {
     "data": {
      "text/html": [
       "<div>\n",
       "<table border=\"1\" class=\"dataframe\">\n",
       "  <thead>\n",
       "    <tr style=\"text-align: right;\">\n",
       "      <th></th>\n",
       "      <th>name</th>\n",
       "      <th>age</th>\n",
       "    </tr>\n",
       "  </thead>\n",
       "  <tbody>\n",
       "    <tr>\n",
       "      <th>0</th>\n",
       "      <td>Alice</td>\n",
       "      <td>13</td>\n",
       "    </tr>\n",
       "  </tbody>\n",
       "</table>\n",
       "</div>"
      ],
      "text/plain": [
       "    name  age\n",
       "0  Alice   13"
      ]
     },
     "execution_count": 4,
     "metadata": {},
     "output_type": "execute_result"
    }
   ],
   "source": [
    "df = sqlContext.createDataFrame([('Alice', 13), ('Bob', 12)], ['name', 'age'])\n",
    "result = df.filter(\"age > 12\")\n",
    "result.toPandas()"
   ]
  },
  {
   "cell_type": "markdown",
   "metadata": {},
   "source": [
    "# Aggregations"
   ]
  },
  {
   "cell_type": "code",
   "execution_count": 20,
   "metadata": {
    "collapsed": false
   },
   "outputs": [
    {
     "data": {
      "text/html": [
       "<div>\n",
       "<table border=\"1\" class=\"dataframe\">\n",
       "  <thead>\n",
       "    <tr style=\"text-align: right;\">\n",
       "      <th></th>\n",
       "      <th>sum</th>\n",
       "      <th>avg</th>\n",
       "      <th>min</th>\n",
       "      <th>max</th>\n",
       "      <th>count</th>\n",
       "    </tr>\n",
       "  </thead>\n",
       "  <tbody>\n",
       "    <tr>\n",
       "      <th>0</th>\n",
       "      <td>4950</td>\n",
       "      <td>50.0</td>\n",
       "      <td>1</td>\n",
       "      <td>99</td>\n",
       "      <td>99</td>\n",
       "    </tr>\n",
       "  </tbody>\n",
       "</table>\n",
       "</div>"
      ],
      "text/plain": [
       "    sum   avg  min  max  count\n",
       "0  4950  50.0    1   99     99"
      ]
     },
     "execution_count": 20,
     "metadata": {},
     "output_type": "execute_result"
    }
   ],
   "source": [
    "from pyspark.sql.functions import *\n",
    "\n",
    "rdd = sc.range(1,100).map(lambda x: [x])\n",
    "df = sqlContext.createDataFrame(rdd, ['value'])\n",
    "result = df.select(sum(df.value).alias('sum'), avg(df.value).alias('avg'), min(df.value).alias('min'), max(df.value).alias('max'), count(df.value).alias('count'))\n",
    "result.toPandas()"
   ]
  },
  {
   "cell_type": "markdown",
   "metadata": {},
   "source": [
    "# Making Data Distinct"
   ]
  },
  {
   "cell_type": "code",
   "execution_count": 21,
   "metadata": {
    "collapsed": false
   },
   "outputs": [
    {
     "data": {
      "text/html": [
       "<div>\n",
       "<table border=\"1\" class=\"dataframe\">\n",
       "  <thead>\n",
       "    <tr style=\"text-align: right;\">\n",
       "      <th></th>\n",
       "      <th>name</th>\n",
       "    </tr>\n",
       "  </thead>\n",
       "  <tbody>\n",
       "    <tr>\n",
       "      <th>0</th>\n",
       "      <td>Alice</td>\n",
       "    </tr>\n",
       "    <tr>\n",
       "      <th>1</th>\n",
       "      <td>Bob</td>\n",
       "    </tr>\n",
       "  </tbody>\n",
       "</table>\n",
       "</div>"
      ],
      "text/plain": [
       "    name\n",
       "0  Alice\n",
       "1    Bob"
      ]
     },
     "execution_count": 21,
     "metadata": {},
     "output_type": "execute_result"
    }
   ],
   "source": [
    "from pyspark.sql.functions import *\n",
    "\n",
    "df = sqlContext.createDataFrame([('Bob',),('Alice',),('Bob',)], ['name'])\n",
    "result = df.distinct()\n",
    "result.toPandas()"
   ]
  },
  {
   "cell_type": "markdown",
   "metadata": {},
   "source": [
    "# Grouping & Aggregating"
   ]
  },
  {
   "cell_type": "code",
   "execution_count": 22,
   "metadata": {
    "collapsed": false
   },
   "outputs": [
    {
     "data": {
      "text/html": [
       "<div>\n",
       "<table border=\"1\" class=\"dataframe\">\n",
       "  <thead>\n",
       "    <tr style=\"text-align: right;\">\n",
       "      <th></th>\n",
       "      <th>gender</th>\n",
       "      <th>avg(age)</th>\n",
       "    </tr>\n",
       "  </thead>\n",
       "  <tbody>\n",
       "    <tr>\n",
       "      <th>0</th>\n",
       "      <td>female</td>\n",
       "      <td>21.000000</td>\n",
       "    </tr>\n",
       "    <tr>\n",
       "      <th>1</th>\n",
       "      <td>male</td>\n",
       "      <td>17.666667</td>\n",
       "    </tr>\n",
       "  </tbody>\n",
       "</table>\n",
       "</div>"
      ],
      "text/plain": [
       "   gender   avg(age)\n",
       "0  female  21.000000\n",
       "1    male  17.666667"
      ]
     },
     "execution_count": 22,
     "metadata": {},
     "output_type": "execute_result"
    }
   ],
   "source": [
    "df = sqlContext.createDataFrame([\n",
    "        (\"male\",13,146), \n",
    "        (\"male\",17,173), \n",
    "        (\"female\", 9,121), \n",
    "        (\"male\", 23,187), \n",
    "        (\"female\",33,165)\n",
    "    ],\n",
    "    ['gender','age','height']\n",
    ")\n",
    "result = df.select(df.gender,df.age).groupBy(df.gender).avg()\n",
    "result.toPandas()"
   ]
  },
  {
   "cell_type": "code",
   "execution_count": 23,
   "metadata": {
    "collapsed": false
   },
   "outputs": [
    {
     "data": {
      "text/html": [
       "<div>\n",
       "<table border=\"1\" class=\"dataframe\">\n",
       "  <thead>\n",
       "    <tr style=\"text-align: right;\">\n",
       "      <th></th>\n",
       "      <th>gender</th>\n",
       "      <th>max_age</th>\n",
       "    </tr>\n",
       "  </thead>\n",
       "  <tbody>\n",
       "    <tr>\n",
       "      <th>0</th>\n",
       "      <td>female</td>\n",
       "      <td>33</td>\n",
       "    </tr>\n",
       "    <tr>\n",
       "      <th>1</th>\n",
       "      <td>male</td>\n",
       "      <td>23</td>\n",
       "    </tr>\n",
       "  </tbody>\n",
       "</table>\n",
       "</div>"
      ],
      "text/plain": [
       "   gender  max_age\n",
       "0  female       33\n",
       "1    male       23"
      ]
     },
     "execution_count": 23,
     "metadata": {},
     "output_type": "execute_result"
    }
   ],
   "source": [
    "result = df.groupBy(df.gender).agg({'age':'max'}).withColumnRenamed('max(age)','max_age')\n",
    "result.toPandas()"
   ]
  },
  {
   "cell_type": "code",
   "execution_count": 25,
   "metadata": {
    "collapsed": false
   },
   "outputs": [
    {
     "data": {
      "text/html": [
       "<div>\n",
       "<table border=\"1\" class=\"dataframe\">\n",
       "  <thead>\n",
       "    <tr style=\"text-align: right;\">\n",
       "      <th></th>\n",
       "      <th>gender</th>\n",
       "      <th>avg_age</th>\n",
       "      <th>min_height</th>\n",
       "      <th>max_height</th>\n",
       "    </tr>\n",
       "  </thead>\n",
       "  <tbody>\n",
       "    <tr>\n",
       "      <th>0</th>\n",
       "      <td>female</td>\n",
       "      <td>21.000000</td>\n",
       "      <td>121</td>\n",
       "      <td>165</td>\n",
       "    </tr>\n",
       "    <tr>\n",
       "      <th>1</th>\n",
       "      <td>male</td>\n",
       "      <td>17.666667</td>\n",
       "      <td>146</td>\n",
       "      <td>187</td>\n",
       "    </tr>\n",
       "  </tbody>\n",
       "</table>\n",
       "</div>"
      ],
      "text/plain": [
       "   gender    avg_age  min_height  max_height\n",
       "0  female  21.000000         121         165\n",
       "1    male  17.666667         146         187"
      ]
     },
     "execution_count": 25,
     "metadata": {},
     "output_type": "execute_result"
    }
   ],
   "source": [
    "result = df.groupBy(df.gender).agg(\n",
    "    avg(df.age).alias('avg_age'),\n",
    "    min(df.height).alias('min_height'),\n",
    "    max(df.height).alias('max_height'))\n",
    "result.toPandas()"
   ]
  },
  {
   "cell_type": "markdown",
   "metadata": {},
   "source": [
    "# Sorting Data"
   ]
  },
  {
   "cell_type": "code",
   "execution_count": 27,
   "metadata": {
    "collapsed": false
   },
   "outputs": [
    {
     "data": {
      "text/html": [
       "<div>\n",
       "<table border=\"1\" class=\"dataframe\">\n",
       "  <thead>\n",
       "    <tr style=\"text-align: right;\">\n",
       "      <th></th>\n",
       "      <th>name</th>\n",
       "      <th>age</th>\n",
       "    </tr>\n",
       "  </thead>\n",
       "  <tbody>\n",
       "    <tr>\n",
       "      <th>0</th>\n",
       "      <td>Alice</td>\n",
       "      <td>12</td>\n",
       "    </tr>\n",
       "    <tr>\n",
       "      <th>1</th>\n",
       "      <td>Bob</td>\n",
       "      <td>17</td>\n",
       "    </tr>\n",
       "  </tbody>\n",
       "</table>\n",
       "</div>"
      ],
      "text/plain": [
       "    name  age\n",
       "0  Alice   12\n",
       "1    Bob   17"
      ]
     },
     "execution_count": 27,
     "metadata": {},
     "output_type": "execute_result"
    }
   ],
   "source": [
    "df = sqlContext.createDataFrame([('Alice',12),('Bob',17)],['name','age'])\n",
    "result = df.orderBy(df.name)\n",
    "result.toPandas()"
   ]
  },
  {
   "cell_type": "code",
   "execution_count": 28,
   "metadata": {
    "collapsed": false
   },
   "outputs": [
    {
     "data": {
      "text/html": [
       "<div>\n",
       "<table border=\"1\" class=\"dataframe\">\n",
       "  <thead>\n",
       "    <tr style=\"text-align: right;\">\n",
       "      <th></th>\n",
       "      <th>name</th>\n",
       "      <th>age</th>\n",
       "    </tr>\n",
       "  </thead>\n",
       "  <tbody>\n",
       "    <tr>\n",
       "      <th>0</th>\n",
       "      <td>Bob</td>\n",
       "      <td>17</td>\n",
       "    </tr>\n",
       "    <tr>\n",
       "      <th>1</th>\n",
       "      <td>Alice</td>\n",
       "      <td>12</td>\n",
       "    </tr>\n",
       "  </tbody>\n",
       "</table>\n",
       "</div>"
      ],
      "text/plain": [
       "    name  age\n",
       "0    Bob   17\n",
       "1  Alice   12"
      ]
     },
     "execution_count": 28,
     "metadata": {},
     "output_type": "execute_result"
    }
   ],
   "source": [
    "df = sqlContext.createDataFrame([('Alice',12),('Bob',17)],['name','age'])\n",
    "result = df.orderBy(df.age.desc())\n",
    "result.toPandas()"
   ]
  },
  {
   "cell_type": "markdown",
   "metadata": {},
   "source": [
    "# Joining Data"
   ]
  },
  {
   "cell_type": "code",
   "execution_count": 29,
   "metadata": {
    "collapsed": false
   },
   "outputs": [
    {
     "data": {
      "text/html": [
       "<div>\n",
       "<table border=\"1\" class=\"dataframe\">\n",
       "  <thead>\n",
       "    <tr style=\"text-align: right;\">\n",
       "      <th></th>\n",
       "      <th>name</th>\n",
       "      <th>age</th>\n",
       "      <th>city</th>\n",
       "    </tr>\n",
       "  </thead>\n",
       "  <tbody>\n",
       "    <tr>\n",
       "      <th>0</th>\n",
       "      <td>Alice</td>\n",
       "      <td>12</td>\n",
       "      <td>Frankfurt</td>\n",
       "    </tr>\n",
       "    <tr>\n",
       "      <th>1</th>\n",
       "      <td>Bob</td>\n",
       "      <td>17</td>\n",
       "      <td>Berlin</td>\n",
       "    </tr>\n",
       "  </tbody>\n",
       "</table>\n",
       "</div>"
      ],
      "text/plain": [
       "    name  age       city\n",
       "0  Alice   12  Frankfurt\n",
       "1    Bob   17     Berlin"
      ]
     },
     "execution_count": 29,
     "metadata": {},
     "output_type": "execute_result"
    }
   ],
   "source": [
    "x = sqlContext.createDataFrame([('Alice',12),('Bob',17)],['name','age'])\n",
    "y = sqlContext.createDataFrame([('Alice','Frankfurt'),('Bob','Berlin')],['name','city'])\n",
    "result = x.join(y,x.name == y.name).select(x.name,x.age,y.city)\n",
    "result.toPandas()"
   ]
  },
  {
   "cell_type": "markdown",
   "metadata": {},
   "source": [
    "# User Defined Functions"
   ]
  },
  {
   "cell_type": "code",
   "execution_count": 30,
   "metadata": {
    "collapsed": false
   },
   "outputs": [
    {
     "data": {
      "text/html": [
       "<div>\n",
       "<table border=\"1\" class=\"dataframe\">\n",
       "  <thead>\n",
       "    <tr style=\"text-align: right;\">\n",
       "      <th></th>\n",
       "      <th>html_name</th>\n",
       "    </tr>\n",
       "  </thead>\n",
       "  <tbody>\n",
       "    <tr>\n",
       "      <th>0</th>\n",
       "      <td>Alice &amp;amp; Bob</td>\n",
       "    </tr>\n",
       "    <tr>\n",
       "      <th>1</th>\n",
       "      <td>Thelma &amp;amp; Louise</td>\n",
       "    </tr>\n",
       "  </tbody>\n",
       "</table>\n",
       "</div>"
      ],
      "text/plain": [
       "             html_name\n",
       "0      Alice &amp; Bob\n",
       "1  Thelma &amp; Louise"
      ]
     },
     "execution_count": 30,
     "metadata": {},
     "output_type": "execute_result"
    }
   ],
   "source": [
    "import cgi\n",
    "from pyspark.sql.functions import *\n",
    "from pyspark.sql.types import *\n",
    "\n",
    "html_encode = udf(lambda s: cgi.escape(s), StringType())\n",
    "\n",
    "df = sqlContext.createDataFrame([('Alice & Bob',12),('Thelma & Louise',17)],['name','age'])\n",
    "result = df.select(html_encode('name').alias('html_name'))\n",
    "\n",
    "result.toPandas()"
   ]
  },
  {
   "cell_type": "markdown",
   "metadata": {},
   "source": [
    "# Reading and Writing Data"
   ]
  },
  {
   "cell_type": "code",
   "execution_count": 32,
   "metadata": {
    "collapsed": false
   },
   "outputs": [
    {
     "data": {
      "text/html": [
       "<div>\n",
       "<table border=\"1\" class=\"dataframe\">\n",
       "  <thead>\n",
       "    <tr style=\"text-align: right;\">\n",
       "      <th></th>\n",
       "      <th>value</th>\n",
       "    </tr>\n",
       "  </thead>\n",
       "  <tbody>\n",
       "    <tr>\n",
       "      <th>0</th>\n",
       "      <td>Project Gutenberg's Alice's Adventures in Wond...</td>\n",
       "    </tr>\n",
       "    <tr>\n",
       "      <th>1</th>\n",
       "      <td></td>\n",
       "    </tr>\n",
       "    <tr>\n",
       "      <th>2</th>\n",
       "      <td>This eBook is for the use of anyone anywhere a...</td>\n",
       "    </tr>\n",
       "    <tr>\n",
       "      <th>3</th>\n",
       "      <td>almost no restrictions whatsoever.  You may co...</td>\n",
       "    </tr>\n",
       "    <tr>\n",
       "      <th>4</th>\n",
       "      <td>re-use it under the terms of the Project Guten...</td>\n",
       "    </tr>\n",
       "    <tr>\n",
       "      <th>5</th>\n",
       "      <td>with this eBook or online at www.gutenberg.org</td>\n",
       "    </tr>\n",
       "    <tr>\n",
       "      <th>6</th>\n",
       "      <td></td>\n",
       "    </tr>\n",
       "    <tr>\n",
       "      <th>7</th>\n",
       "      <td></td>\n",
       "    </tr>\n",
       "    <tr>\n",
       "      <th>8</th>\n",
       "      <td>Title: Alice's Adventures in Wonderland</td>\n",
       "    </tr>\n",
       "    <tr>\n",
       "      <th>9</th>\n",
       "      <td></td>\n",
       "    </tr>\n",
       "  </tbody>\n",
       "</table>\n",
       "</div>"
      ],
      "text/plain": [
       "                                               value\n",
       "0  Project Gutenberg's Alice's Adventures in Wond...\n",
       "1                                                   \n",
       "2  This eBook is for the use of anyone anywhere a...\n",
       "3  almost no restrictions whatsoever.  You may co...\n",
       "4  re-use it under the terms of the Project Guten...\n",
       "5     with this eBook or online at www.gutenberg.org\n",
       "6                                                   \n",
       "7                                                   \n",
       "8            Title: Alice's Adventures in Wonderland\n",
       "9                                                   "
      ]
     },
     "execution_count": 32,
     "metadata": {},
     "output_type": "execute_result"
    }
   ],
   "source": [
    "df = sqlContext.read.text('/user/cloudera/alice.txt')\n",
    "df.toPandas()[0:10]"
   ]
  },
  {
   "cell_type": "code",
   "execution_count": 33,
   "metadata": {
    "collapsed": true
   },
   "outputs": [],
   "source": [
    "from pyspark.sql.functions import *\n",
    "df = sqlContext.createDataFrame([('Alice',12),('Bob',17)],['name','age'])\n",
    "lines = df.select(concat(df.name, lit(','), df.age).alias('value'))\n",
    "lines.write.mode('overwrite').text('names_ages')"
   ]
  },
  {
   "cell_type": "markdown",
   "metadata": {},
   "source": [
    "# WordCount Revisited"
   ]
  },
  {
   "cell_type": "code",
   "execution_count": 34,
   "metadata": {
    "collapsed": false
   },
   "outputs": [
    {
     "data": {
      "text/html": [
       "<div>\n",
       "<table border=\"1\" class=\"dataframe\">\n",
       "  <thead>\n",
       "    <tr style=\"text-align: right;\">\n",
       "      <th></th>\n",
       "      <th>word</th>\n",
       "      <th>count</th>\n",
       "    </tr>\n",
       "  </thead>\n",
       "  <tbody>\n",
       "    <tr>\n",
       "      <th>0</th>\n",
       "      <td>the</td>\n",
       "      <td>1664</td>\n",
       "    </tr>\n",
       "    <tr>\n",
       "      <th>1</th>\n",
       "      <td>and</td>\n",
       "      <td>780</td>\n",
       "    </tr>\n",
       "    <tr>\n",
       "      <th>2</th>\n",
       "      <td>to</td>\n",
       "      <td>773</td>\n",
       "    </tr>\n",
       "    <tr>\n",
       "      <th>3</th>\n",
       "      <td>a</td>\n",
       "      <td>662</td>\n",
       "    </tr>\n",
       "    <tr>\n",
       "      <th>4</th>\n",
       "      <td>of</td>\n",
       "      <td>596</td>\n",
       "    </tr>\n",
       "    <tr>\n",
       "      <th>5</th>\n",
       "      <td>she</td>\n",
       "      <td>484</td>\n",
       "    </tr>\n",
       "    <tr>\n",
       "      <th>6</th>\n",
       "      <td>said</td>\n",
       "      <td>416</td>\n",
       "    </tr>\n",
       "    <tr>\n",
       "      <th>7</th>\n",
       "      <td>in</td>\n",
       "      <td>401</td>\n",
       "    </tr>\n",
       "    <tr>\n",
       "      <th>8</th>\n",
       "      <td>it</td>\n",
       "      <td>356</td>\n",
       "    </tr>\n",
       "    <tr>\n",
       "      <th>9</th>\n",
       "      <td>was</td>\n",
       "      <td>329</td>\n",
       "    </tr>\n",
       "    <tr>\n",
       "      <th>10</th>\n",
       "      <td>you</td>\n",
       "      <td>301</td>\n",
       "    </tr>\n",
       "    <tr>\n",
       "      <th>11</th>\n",
       "      <td>I</td>\n",
       "      <td>260</td>\n",
       "    </tr>\n",
       "    <tr>\n",
       "      <th>12</th>\n",
       "      <td>as</td>\n",
       "      <td>246</td>\n",
       "    </tr>\n",
       "    <tr>\n",
       "      <th>13</th>\n",
       "      <td>that</td>\n",
       "      <td>226</td>\n",
       "    </tr>\n",
       "    <tr>\n",
       "      <th>14</th>\n",
       "      <td>Alice</td>\n",
       "      <td>221</td>\n",
       "    </tr>\n",
       "    <tr>\n",
       "      <th>15</th>\n",
       "      <td>with</td>\n",
       "      <td>214</td>\n",
       "    </tr>\n",
       "    <tr>\n",
       "      <th>16</th>\n",
       "      <td>at</td>\n",
       "      <td>211</td>\n",
       "    </tr>\n",
       "    <tr>\n",
       "      <th>17</th>\n",
       "      <td>her</td>\n",
       "      <td>203</td>\n",
       "    </tr>\n",
       "    <tr>\n",
       "      <th>18</th>\n",
       "      <td>had</td>\n",
       "      <td>175</td>\n",
       "    </tr>\n",
       "    <tr>\n",
       "      <th>19</th>\n",
       "      <td>all</td>\n",
       "      <td>168</td>\n",
       "    </tr>\n",
       "    <tr>\n",
       "      <th>20</th>\n",
       "      <td>be</td>\n",
       "      <td>154</td>\n",
       "    </tr>\n",
       "    <tr>\n",
       "      <th>21</th>\n",
       "      <td>on</td>\n",
       "      <td>148</td>\n",
       "    </tr>\n",
       "    <tr>\n",
       "      <th>22</th>\n",
       "      <td>for</td>\n",
       "      <td>146</td>\n",
       "    </tr>\n",
       "    <tr>\n",
       "      <th>23</th>\n",
       "      <td>or</td>\n",
       "      <td>137</td>\n",
       "    </tr>\n",
       "    <tr>\n",
       "      <th>24</th>\n",
       "      <td>very</td>\n",
       "      <td>127</td>\n",
       "    </tr>\n",
       "    <tr>\n",
       "      <th>25</th>\n",
       "      <td>not</td>\n",
       "      <td>122</td>\n",
       "    </tr>\n",
       "    <tr>\n",
       "      <th>26</th>\n",
       "      <td>this</td>\n",
       "      <td>122</td>\n",
       "    </tr>\n",
       "    <tr>\n",
       "      <th>27</th>\n",
       "      <td>'I</td>\n",
       "      <td>121</td>\n",
       "    </tr>\n",
       "    <tr>\n",
       "      <th>28</th>\n",
       "      <td>little</td>\n",
       "      <td>117</td>\n",
       "    </tr>\n",
       "    <tr>\n",
       "      <th>29</th>\n",
       "      <td>they</td>\n",
       "      <td>109</td>\n",
       "    </tr>\n",
       "    <tr>\n",
       "      <th>...</th>\n",
       "      <td>...</td>\n",
       "      <td>...</td>\n",
       "    </tr>\n",
       "    <tr>\n",
       "      <th>5986</th>\n",
       "      <td>(not</td>\n",
       "      <td>1</td>\n",
       "    </tr>\n",
       "    <tr>\n",
       "      <th>5987</th>\n",
       "      <td>trouble!'</td>\n",
       "      <td>1</td>\n",
       "    </tr>\n",
       "    <tr>\n",
       "      <th>5988</th>\n",
       "      <td>capering</td>\n",
       "      <td>1</td>\n",
       "    </tr>\n",
       "    <tr>\n",
       "      <th>5989</th>\n",
       "      <td>'Chorus</td>\n",
       "      <td>1</td>\n",
       "    </tr>\n",
       "    <tr>\n",
       "      <th>5990</th>\n",
       "      <td>mostly,'</td>\n",
       "      <td>1</td>\n",
       "    </tr>\n",
       "    <tr>\n",
       "      <th>5991</th>\n",
       "      <td>toss</td>\n",
       "      <td>1</td>\n",
       "    </tr>\n",
       "    <tr>\n",
       "      <th>5992</th>\n",
       "      <td>THOSE</td>\n",
       "      <td>1</td>\n",
       "    </tr>\n",
       "    <tr>\n",
       "      <th>5993</th>\n",
       "      <td>indirectly</td>\n",
       "      <td>1</td>\n",
       "    </tr>\n",
       "    <tr>\n",
       "      <th>5994</th>\n",
       "      <td>charitable</td>\n",
       "      <td>1</td>\n",
       "    </tr>\n",
       "    <tr>\n",
       "      <th>5995</th>\n",
       "      <td>nice,</td>\n",
       "      <td>1</td>\n",
       "    </tr>\n",
       "    <tr>\n",
       "      <th>5996</th>\n",
       "      <td>hopeless</td>\n",
       "      <td>1</td>\n",
       "    </tr>\n",
       "    <tr>\n",
       "      <th>5997</th>\n",
       "      <td>do:--</td>\n",
       "      <td>1</td>\n",
       "    </tr>\n",
       "    <tr>\n",
       "      <th>5998</th>\n",
       "      <td>crossly:</td>\n",
       "      <td>1</td>\n",
       "    </tr>\n",
       "    <tr>\n",
       "      <th>5999</th>\n",
       "      <td>then!--Bill's</td>\n",
       "      <td>1</td>\n",
       "    </tr>\n",
       "    <tr>\n",
       "      <th>6000</th>\n",
       "      <td>dodged</td>\n",
       "      <td>1</td>\n",
       "    </tr>\n",
       "    <tr>\n",
       "      <th>6001</th>\n",
       "      <td>thistle</td>\n",
       "      <td>1</td>\n",
       "    </tr>\n",
       "    <tr>\n",
       "      <th>6002</th>\n",
       "      <td>hours,</td>\n",
       "      <td>1</td>\n",
       "    </tr>\n",
       "    <tr>\n",
       "      <th>6003</th>\n",
       "      <td>I'M</td>\n",
       "      <td>1</td>\n",
       "    </tr>\n",
       "    <tr>\n",
       "      <th>6004</th>\n",
       "      <td>history,'</td>\n",
       "      <td>1</td>\n",
       "    </tr>\n",
       "    <tr>\n",
       "      <th>6005</th>\n",
       "      <td>answered,</td>\n",
       "      <td>1</td>\n",
       "    </tr>\n",
       "    <tr>\n",
       "      <th>6006</th>\n",
       "      <td>stuff,'</td>\n",
       "      <td>1</td>\n",
       "    </tr>\n",
       "    <tr>\n",
       "      <th>6007</th>\n",
       "      <td>scroll</td>\n",
       "      <td>1</td>\n",
       "    </tr>\n",
       "    <tr>\n",
       "      <th>6008</th>\n",
       "      <td>good,</td>\n",
       "      <td>1</td>\n",
       "    </tr>\n",
       "    <tr>\n",
       "      <th>6009</th>\n",
       "      <td>trial.'</td>\n",
       "      <td>1</td>\n",
       "    </tr>\n",
       "    <tr>\n",
       "      <th>6010</th>\n",
       "      <td>pencil</td>\n",
       "      <td>1</td>\n",
       "    </tr>\n",
       "    <tr>\n",
       "      <th>6011</th>\n",
       "      <td>'Fifteenth,'</td>\n",
       "      <td>1</td>\n",
       "    </tr>\n",
       "    <tr>\n",
       "      <th>6012</th>\n",
       "      <td>Suppress</td>\n",
       "      <td>1</td>\n",
       "    </tr>\n",
       "    <tr>\n",
       "      <th>6013</th>\n",
       "      <td>witness.</td>\n",
       "      <td>1</td>\n",
       "    </tr>\n",
       "    <tr>\n",
       "      <th>6014</th>\n",
       "      <td>sister;</td>\n",
       "      <td>1</td>\n",
       "    </tr>\n",
       "    <tr>\n",
       "      <th>6015</th>\n",
       "      <td>taxes.</td>\n",
       "      <td>1</td>\n",
       "    </tr>\n",
       "  </tbody>\n",
       "</table>\n",
       "<p>6016 rows × 2 columns</p>\n",
       "</div>"
      ],
      "text/plain": [
       "               word  count\n",
       "0               the   1664\n",
       "1               and    780\n",
       "2                to    773\n",
       "3                 a    662\n",
       "4                of    596\n",
       "5               she    484\n",
       "6              said    416\n",
       "7                in    401\n",
       "8                it    356\n",
       "9               was    329\n",
       "10              you    301\n",
       "11                I    260\n",
       "12               as    246\n",
       "13             that    226\n",
       "14            Alice    221\n",
       "15             with    214\n",
       "16               at    211\n",
       "17              her    203\n",
       "18              had    175\n",
       "19              all    168\n",
       "20               be    154\n",
       "21               on    148\n",
       "22              for    146\n",
       "23               or    137\n",
       "24             very    127\n",
       "25              not    122\n",
       "26             this    122\n",
       "27               'I    121\n",
       "28           little    117\n",
       "29             they    109\n",
       "...             ...    ...\n",
       "5986           (not      1\n",
       "5987      trouble!'      1\n",
       "5988       capering      1\n",
       "5989        'Chorus      1\n",
       "5990       mostly,'      1\n",
       "5991           toss      1\n",
       "5992          THOSE      1\n",
       "5993     indirectly      1\n",
       "5994     charitable      1\n",
       "5995          nice,      1\n",
       "5996       hopeless      1\n",
       "5997          do:--      1\n",
       "5998       crossly:      1\n",
       "5999  then!--Bill's      1\n",
       "6000         dodged      1\n",
       "6001        thistle      1\n",
       "6002         hours,      1\n",
       "6003            I'M      1\n",
       "6004      history,'      1\n",
       "6005      answered,      1\n",
       "6006        stuff,'      1\n",
       "6007         scroll      1\n",
       "6008          good,      1\n",
       "6009        trial.'      1\n",
       "6010         pencil      1\n",
       "6011   'Fifteenth,'      1\n",
       "6012       Suppress      1\n",
       "6013       witness.      1\n",
       "6014        sister;      1\n",
       "6015         taxes.      1\n",
       "\n",
       "[6016 rows x 2 columns]"
      ]
     },
     "execution_count": 34,
     "metadata": {},
     "output_type": "execute_result"
    }
   ],
   "source": [
    "text = sqlContext.read.text('/user/cloudera/alice.txt')\n",
    "words = text.select(explode(split(text.value,' ')).alias('word')).filter(col('word') != '')\n",
    "counts = words.groupBy(words.word).count().orderBy('count',ascending=False)\n",
    "\n",
    "counts.toPandas()"
   ]
  },
  {
   "cell_type": "markdown",
   "metadata": {},
   "source": [
    "# Accessing Hive Tables"
   ]
  },
  {
   "cell_type": "code",
   "execution_count": 35,
   "metadata": {
    "collapsed": false
   },
   "outputs": [
    {
     "data": {
      "text/html": [
       "<div>\n",
       "<table border=\"1\" class=\"dataframe\">\n",
       "  <thead>\n",
       "    <tr style=\"text-align: right;\">\n",
       "      <th></th>\n",
       "      <th>tableName</th>\n",
       "      <th>isTemporary</th>\n",
       "    </tr>\n",
       "  </thead>\n",
       "  <tbody>\n",
       "    <tr>\n",
       "      <th>0</th>\n",
       "      <td>bike_sharing</td>\n",
       "      <td>False</td>\n",
       "    </tr>\n",
       "    <tr>\n",
       "      <th>1</th>\n",
       "      <td>stations</td>\n",
       "      <td>False</td>\n",
       "    </tr>\n",
       "    <tr>\n",
       "      <th>2</th>\n",
       "      <td>weather</td>\n",
       "      <td>False</td>\n",
       "    </tr>\n",
       "    <tr>\n",
       "      <th>3</th>\n",
       "      <td>weather_raw</td>\n",
       "      <td>False</td>\n",
       "    </tr>\n",
       "  </tbody>\n",
       "</table>\n",
       "</div>"
      ],
      "text/plain": [
       "      tableName isTemporary\n",
       "0  bike_sharing       False\n",
       "1      stations       False\n",
       "2       weather       False\n",
       "3   weather_raw       False"
      ]
     },
     "execution_count": 35,
     "metadata": {},
     "output_type": "execute_result"
    }
   ],
   "source": [
    "tables = sqlContext.tables(dbName='training')\n",
    "tables.toPandas()"
   ]
  },
  {
   "cell_type": "code",
   "execution_count": 36,
   "metadata": {
    "collapsed": false
   },
   "outputs": [
    {
     "data": {
      "text/plain": [
       "[u'bike_sharing', u'stations', u'weather', u'weather_raw']"
      ]
     },
     "execution_count": 36,
     "metadata": {},
     "output_type": "execute_result"
    }
   ],
   "source": [
    "sqlContext.tableNames(dbName='training')"
   ]
  },
  {
   "cell_type": "code",
   "execution_count": 37,
   "metadata": {
    "collapsed": false
   },
   "outputs": [
    {
     "data": {
      "text/html": [
       "<div>\n",
       "<table border=\"1\" class=\"dataframe\">\n",
       "  <thead>\n",
       "    <tr style=\"text-align: right;\">\n",
       "      <th></th>\n",
       "      <th>usaf</th>\n",
       "      <th>wban</th>\n",
       "      <th>name</th>\n",
       "      <th>country</th>\n",
       "      <th>state</th>\n",
       "      <th>icao</th>\n",
       "      <th>latitude</th>\n",
       "      <th>longitude</th>\n",
       "      <th>elevation</th>\n",
       "      <th>date_begin</th>\n",
       "      <th>date_end</th>\n",
       "    </tr>\n",
       "  </thead>\n",
       "  <tbody>\n",
       "    <tr>\n",
       "      <th>0</th>\n",
       "      <td>USAF</td>\n",
       "      <td>WBAN</td>\n",
       "      <td>STATION NAME</td>\n",
       "      <td>CTRY</td>\n",
       "      <td>STATE</td>\n",
       "      <td>ICAO</td>\n",
       "      <td>LAT</td>\n",
       "      <td>LON</td>\n",
       "      <td>ELEV(M)</td>\n",
       "      <td>BEGIN</td>\n",
       "      <td>END</td>\n",
       "    </tr>\n",
       "    <tr>\n",
       "      <th>1</th>\n",
       "      <td>007005</td>\n",
       "      <td>99999</td>\n",
       "      <td>CWOS 07005</td>\n",
       "      <td></td>\n",
       "      <td></td>\n",
       "      <td></td>\n",
       "      <td></td>\n",
       "      <td></td>\n",
       "      <td></td>\n",
       "      <td>20120127</td>\n",
       "      <td>20120127</td>\n",
       "    </tr>\n",
       "    <tr>\n",
       "      <th>2</th>\n",
       "      <td>007011</td>\n",
       "      <td>99999</td>\n",
       "      <td>CWOS 07011</td>\n",
       "      <td></td>\n",
       "      <td></td>\n",
       "      <td></td>\n",
       "      <td></td>\n",
       "      <td></td>\n",
       "      <td></td>\n",
       "      <td>20111025</td>\n",
       "      <td>20121129</td>\n",
       "    </tr>\n",
       "    <tr>\n",
       "      <th>3</th>\n",
       "      <td>007018</td>\n",
       "      <td>99999</td>\n",
       "      <td>WXPOD 7018</td>\n",
       "      <td></td>\n",
       "      <td></td>\n",
       "      <td></td>\n",
       "      <td>+00.000</td>\n",
       "      <td>+000.000</td>\n",
       "      <td>+7018.0</td>\n",
       "      <td>20110309</td>\n",
       "      <td>20130730</td>\n",
       "    </tr>\n",
       "    <tr>\n",
       "      <th>4</th>\n",
       "      <td>007025</td>\n",
       "      <td>99999</td>\n",
       "      <td>CWOS 07025</td>\n",
       "      <td></td>\n",
       "      <td></td>\n",
       "      <td></td>\n",
       "      <td></td>\n",
       "      <td></td>\n",
       "      <td></td>\n",
       "      <td>20120127</td>\n",
       "      <td>20120127</td>\n",
       "    </tr>\n",
       "    <tr>\n",
       "      <th>5</th>\n",
       "      <td>007026</td>\n",
       "      <td>99999</td>\n",
       "      <td>WXPOD 7026</td>\n",
       "      <td>AF</td>\n",
       "      <td></td>\n",
       "      <td></td>\n",
       "      <td>+00.000</td>\n",
       "      <td>+000.000</td>\n",
       "      <td>+7026.0</td>\n",
       "      <td>20120713</td>\n",
       "      <td>20141120</td>\n",
       "    </tr>\n",
       "    <tr>\n",
       "      <th>6</th>\n",
       "      <td>007034</td>\n",
       "      <td>99999</td>\n",
       "      <td>CWOS 07034</td>\n",
       "      <td></td>\n",
       "      <td></td>\n",
       "      <td></td>\n",
       "      <td></td>\n",
       "      <td></td>\n",
       "      <td></td>\n",
       "      <td>20121024</td>\n",
       "      <td>20121106</td>\n",
       "    </tr>\n",
       "    <tr>\n",
       "      <th>7</th>\n",
       "      <td>007037</td>\n",
       "      <td>99999</td>\n",
       "      <td>CWOS 07037</td>\n",
       "      <td></td>\n",
       "      <td></td>\n",
       "      <td></td>\n",
       "      <td></td>\n",
       "      <td></td>\n",
       "      <td></td>\n",
       "      <td>20111202</td>\n",
       "      <td>20121125</td>\n",
       "    </tr>\n",
       "    <tr>\n",
       "      <th>8</th>\n",
       "      <td>007044</td>\n",
       "      <td>99999</td>\n",
       "      <td>CWOS 07044</td>\n",
       "      <td></td>\n",
       "      <td></td>\n",
       "      <td></td>\n",
       "      <td></td>\n",
       "      <td></td>\n",
       "      <td></td>\n",
       "      <td>20120127</td>\n",
       "      <td>20120127</td>\n",
       "    </tr>\n",
       "    <tr>\n",
       "      <th>9</th>\n",
       "      <td>007047</td>\n",
       "      <td>99999</td>\n",
       "      <td>CWOS 07047</td>\n",
       "      <td></td>\n",
       "      <td></td>\n",
       "      <td></td>\n",
       "      <td></td>\n",
       "      <td></td>\n",
       "      <td></td>\n",
       "      <td>20120613</td>\n",
       "      <td>20120717</td>\n",
       "    </tr>\n",
       "  </tbody>\n",
       "</table>\n",
       "</div>"
      ],
      "text/plain": [
       "     usaf   wban          name country  state  icao latitude longitude  \\\n",
       "0    USAF   WBAN  STATION NAME    CTRY  STATE  ICAO      LAT       LON   \n",
       "1  007005  99999    CWOS 07005                                           \n",
       "2  007011  99999    CWOS 07011                                           \n",
       "3  007018  99999    WXPOD 7018                       +00.000  +000.000   \n",
       "4  007025  99999    CWOS 07025                                           \n",
       "5  007026  99999    WXPOD 7026      AF               +00.000  +000.000   \n",
       "6  007034  99999    CWOS 07034                                           \n",
       "7  007037  99999    CWOS 07037                                           \n",
       "8  007044  99999    CWOS 07044                                           \n",
       "9  007047  99999    CWOS 07047                                           \n",
       "\n",
       "  elevation date_begin  date_end  \n",
       "0   ELEV(M)      BEGIN       END  \n",
       "1             20120127  20120127  \n",
       "2             20111025  20121129  \n",
       "3   +7018.0   20110309  20130730  \n",
       "4             20120127  20120127  \n",
       "5   +7026.0   20120713  20141120  \n",
       "6             20121024  20121106  \n",
       "7             20111202  20121125  \n",
       "8             20120127  20120127  \n",
       "9             20120613  20120717  "
      ]
     },
     "execution_count": 37,
     "metadata": {},
     "output_type": "execute_result"
    }
   ],
   "source": [
    "df = sqlContext.table('training.stations')\n",
    "df.toPandas()[0:10]"
   ]
  },
  {
   "cell_type": "markdown",
   "metadata": {},
   "source": [
    "# Statistics"
   ]
  },
  {
   "cell_type": "code",
   "execution_count": 38,
   "metadata": {
    "collapsed": false
   },
   "outputs": [
    {
     "data": {
      "text/html": [
       "<div>\n",
       "<table border=\"1\" class=\"dataframe\">\n",
       "  <thead>\n",
       "    <tr style=\"text-align: right;\">\n",
       "      <th></th>\n",
       "      <th>usaf</th>\n",
       "      <th>wban</th>\n",
       "      <th>name</th>\n",
       "      <th>country</th>\n",
       "      <th>state</th>\n",
       "      <th>icao</th>\n",
       "      <th>latitude</th>\n",
       "      <th>longitude</th>\n",
       "      <th>elevation</th>\n",
       "      <th>date_begin</th>\n",
       "      <th>date_end</th>\n",
       "    </tr>\n",
       "  </thead>\n",
       "  <tbody>\n",
       "    <tr>\n",
       "      <th>0</th>\n",
       "      <td>703950</td>\n",
       "      <td>25325</td>\n",
       "      <td>KETCHIKAN INTL AIRPORT</td>\n",
       "      <td>US</td>\n",
       "      <td>AK</td>\n",
       "      <td>PAKT</td>\n",
       "      <td>+55.357</td>\n",
       "      <td>-131.712</td>\n",
       "      <td>+0023.2</td>\n",
       "      <td>19730101</td>\n",
       "      <td>20151122</td>\n",
       "    </tr>\n",
       "    <tr>\n",
       "      <th>1</th>\n",
       "      <td>703980</td>\n",
       "      <td>25308</td>\n",
       "      <td>ANNETTE ISLAND AIRPORT</td>\n",
       "      <td>US</td>\n",
       "      <td>AK</td>\n",
       "      <td>PANT</td>\n",
       "      <td>+55.039</td>\n",
       "      <td>-131.579</td>\n",
       "      <td>+0033.2</td>\n",
       "      <td>19410714</td>\n",
       "      <td>20151122</td>\n",
       "    </tr>\n",
       "    <tr>\n",
       "      <th>2</th>\n",
       "      <td>703985</td>\n",
       "      <td>25377</td>\n",
       "      <td>METLAKATLA SEAPLANE BASE</td>\n",
       "      <td>US</td>\n",
       "      <td>AK</td>\n",
       "      <td>PAMM</td>\n",
       "      <td>+55.131</td>\n",
       "      <td>-131.578</td>\n",
       "      <td>+0000.0</td>\n",
       "      <td>20060101</td>\n",
       "      <td>20151122</td>\n",
       "    </tr>\n",
       "    <tr>\n",
       "      <th>3</th>\n",
       "      <td>703985</td>\n",
       "      <td>99999</td>\n",
       "      <td>METLAKATLA SEAPLANE</td>\n",
       "      <td>US</td>\n",
       "      <td>AK</td>\n",
       "      <td>PAMM</td>\n",
       "      <td>+55.133</td>\n",
       "      <td>-131.583</td>\n",
       "      <td>+0000.0</td>\n",
       "      <td>19980226</td>\n",
       "      <td>20051231</td>\n",
       "    </tr>\n",
       "    <tr>\n",
       "      <th>4</th>\n",
       "      <td>704090</td>\n",
       "      <td>45709</td>\n",
       "      <td>ATTU</td>\n",
       "      <td>US</td>\n",
       "      <td>AK</td>\n",
       "      <td></td>\n",
       "      <td>+52.833</td>\n",
       "      <td>+173.183</td>\n",
       "      <td>+0021.0</td>\n",
       "      <td>19430607</td>\n",
       "      <td>19871020</td>\n",
       "    </tr>\n",
       "    <tr>\n",
       "      <th>5</th>\n",
       "      <td>704140</td>\n",
       "      <td>45715</td>\n",
       "      <td>EARECKSON AIR STATION AIRPORT</td>\n",
       "      <td>US</td>\n",
       "      <td>AK</td>\n",
       "      <td>PASY</td>\n",
       "      <td>+52.717</td>\n",
       "      <td>+174.100</td>\n",
       "      <td>+0037.2</td>\n",
       "      <td>20050101</td>\n",
       "      <td>20151122</td>\n",
       "    </tr>\n",
       "    <tr>\n",
       "      <th>6</th>\n",
       "      <td>704140</td>\n",
       "      <td>99999</td>\n",
       "      <td>EARECKSON AS</td>\n",
       "      <td>US</td>\n",
       "      <td>AK</td>\n",
       "      <td>PASY</td>\n",
       "      <td>+52.717</td>\n",
       "      <td>+174.100</td>\n",
       "      <td>+0031.0</td>\n",
       "      <td>19430621</td>\n",
       "      <td>20041231</td>\n",
       "    </tr>\n",
       "    <tr>\n",
       "      <th>7</th>\n",
       "      <td>704540</td>\n",
       "      <td>25704</td>\n",
       "      <td>ADAK NAS</td>\n",
       "      <td>US</td>\n",
       "      <td>AK</td>\n",
       "      <td>PADK</td>\n",
       "      <td>+51.883</td>\n",
       "      <td>-176.650</td>\n",
       "      <td>+0005.2</td>\n",
       "      <td>19421030</td>\n",
       "      <td>20151122</td>\n",
       "    </tr>\n",
       "    <tr>\n",
       "      <th>8</th>\n",
       "      <td>704540</td>\n",
       "      <td>99999</td>\n",
       "      <td>ADAK (NAS)</td>\n",
       "      <td>US</td>\n",
       "      <td>AK</td>\n",
       "      <td>PADK</td>\n",
       "      <td>+51.883</td>\n",
       "      <td>-176.650</td>\n",
       "      <td>+0005.0</td>\n",
       "      <td>20000101</td>\n",
       "      <td>20031231</td>\n",
       "    </tr>\n",
       "    <tr>\n",
       "      <th>9</th>\n",
       "      <td>704545</td>\n",
       "      <td>99999</td>\n",
       "      <td>AMCHITKA ISLAND</td>\n",
       "      <td>US</td>\n",
       "      <td>AK</td>\n",
       "      <td></td>\n",
       "      <td>+51.383</td>\n",
       "      <td>+179.267</td>\n",
       "      <td>+0069.0</td>\n",
       "      <td>19430131</td>\n",
       "      <td>19931001</td>\n",
       "    </tr>\n",
       "    <tr>\n",
       "      <th>10</th>\n",
       "      <td>704820</td>\n",
       "      <td>25626</td>\n",
       "      <td>NIKOLSKI</td>\n",
       "      <td>US</td>\n",
       "      <td>AK</td>\n",
       "      <td></td>\n",
       "      <td>+52.950</td>\n",
       "      <td>-168.850</td>\n",
       "      <td>+0021.0</td>\n",
       "      <td>19420910</td>\n",
       "      <td>19940514</td>\n",
       "    </tr>\n",
       "    <tr>\n",
       "      <th>11</th>\n",
       "      <td>704851</td>\n",
       "      <td>99999</td>\n",
       "      <td>UMNAK (FORT GLEN)</td>\n",
       "      <td>US</td>\n",
       "      <td>AK</td>\n",
       "      <td></td>\n",
       "      <td>+53.367</td>\n",
       "      <td>-167.900</td>\n",
       "      <td>+0039.0</td>\n",
       "      <td>19420226</td>\n",
       "      <td>19501123</td>\n",
       "    </tr>\n",
       "    <tr>\n",
       "      <th>12</th>\n",
       "      <td>704890</td>\n",
       "      <td>25616</td>\n",
       "      <td>DUTCH HARBOR AIRPORT</td>\n",
       "      <td>US</td>\n",
       "      <td>AK</td>\n",
       "      <td>PADU</td>\n",
       "      <td>+53.895</td>\n",
       "      <td>-166.543</td>\n",
       "      <td>+0003.1</td>\n",
       "      <td>20081124</td>\n",
       "      <td>20151122</td>\n",
       "    </tr>\n",
       "    <tr>\n",
       "      <th>13</th>\n",
       "      <td>704890</td>\n",
       "      <td>99999</td>\n",
       "      <td>DUTCH HARBOR</td>\n",
       "      <td>US</td>\n",
       "      <td>AK</td>\n",
       "      <td>PADU</td>\n",
       "      <td>+53.900</td>\n",
       "      <td>-166.550</td>\n",
       "      <td>+0004.0</td>\n",
       "      <td>19460101</td>\n",
       "      <td>20081130</td>\n",
       "    </tr>\n",
       "    <tr>\n",
       "      <th>14</th>\n",
       "      <td>704891</td>\n",
       "      <td>99999</td>\n",
       "      <td>NORTH ROCK HARBOR</td>\n",
       "      <td>US</td>\n",
       "      <td>AK</td>\n",
       "      <td></td>\n",
       "      <td>+53.883</td>\n",
       "      <td>-166.533</td>\n",
       "      <td>+0004.0</td>\n",
       "      <td>19760801</td>\n",
       "      <td>19761018</td>\n",
       "    </tr>\n",
       "    <tr>\n",
       "      <th>15</th>\n",
       "      <td>704895</td>\n",
       "      <td>99999</td>\n",
       "      <td>CAPE SARICHEF ARPT</td>\n",
       "      <td>US</td>\n",
       "      <td>AK</td>\n",
       "      <td></td>\n",
       "      <td>+54.600</td>\n",
       "      <td>-164.933</td>\n",
       "      <td>+0009.0</td>\n",
       "      <td>19730104</td>\n",
       "      <td>19800802</td>\n",
       "    </tr>\n",
       "    <tr>\n",
       "      <th>16</th>\n",
       "      <td>704896</td>\n",
       "      <td>25625</td>\n",
       "      <td>PORT MOLLER</td>\n",
       "      <td>US</td>\n",
       "      <td>AK</td>\n",
       "      <td>KPML</td>\n",
       "      <td>+56.000</td>\n",
       "      <td>-160.517</td>\n",
       "      <td>+0321.0</td>\n",
       "      <td>19590626</td>\n",
       "      <td>19740306</td>\n",
       "    </tr>\n",
       "    <tr>\n",
       "      <th>17</th>\n",
       "      <td>704897</td>\n",
       "      <td>25515</td>\n",
       "      <td>DRIFTWOOD BAY</td>\n",
       "      <td>US</td>\n",
       "      <td>AK</td>\n",
       "      <td>KDFB</td>\n",
       "      <td>+53.967</td>\n",
       "      <td>-166.850</td>\n",
       "      <td>+0395.9</td>\n",
       "      <td>19730207</td>\n",
       "      <td>19731224</td>\n",
       "    </tr>\n",
       "    <tr>\n",
       "      <th>18</th>\n",
       "      <td>704898</td>\n",
       "      <td>00113</td>\n",
       "      <td>ROBERT (BOB) CURTIS MEMORIAL AIRPORT</td>\n",
       "      <td>US</td>\n",
       "      <td>AK</td>\n",
       "      <td>PFNO</td>\n",
       "      <td>+66.818</td>\n",
       "      <td>-161.022</td>\n",
       "      <td>+0017.1</td>\n",
       "      <td>20130101</td>\n",
       "      <td>20151121</td>\n",
       "    </tr>\n",
       "    <tr>\n",
       "      <th>19</th>\n",
       "      <td>704898</td>\n",
       "      <td>99999</td>\n",
       "      <td>REBERT (BOB) CURTIS MEMORIAL ARPT</td>\n",
       "      <td>US</td>\n",
       "      <td>AK</td>\n",
       "      <td>PFNO</td>\n",
       "      <td>+66.818</td>\n",
       "      <td>-161.022</td>\n",
       "      <td>+0016.8</td>\n",
       "      <td>19730103</td>\n",
       "      <td>20121231</td>\n",
       "    </tr>\n",
       "  </tbody>\n",
       "</table>\n",
       "</div>"
      ],
      "text/plain": [
       "      usaf   wban                                  name country state  icao  \\\n",
       "0   703950  25325                KETCHIKAN INTL AIRPORT      US    AK  PAKT   \n",
       "1   703980  25308                ANNETTE ISLAND AIRPORT      US    AK  PANT   \n",
       "2   703985  25377              METLAKATLA SEAPLANE BASE      US    AK  PAMM   \n",
       "3   703985  99999                   METLAKATLA SEAPLANE      US    AK  PAMM   \n",
       "4   704090  45709                                  ATTU      US    AK         \n",
       "5   704140  45715         EARECKSON AIR STATION AIRPORT      US    AK  PASY   \n",
       "6   704140  99999                          EARECKSON AS      US    AK  PASY   \n",
       "7   704540  25704                              ADAK NAS      US    AK  PADK   \n",
       "8   704540  99999                            ADAK (NAS)      US    AK  PADK   \n",
       "9   704545  99999                       AMCHITKA ISLAND      US    AK         \n",
       "10  704820  25626                              NIKOLSKI      US    AK         \n",
       "11  704851  99999                     UMNAK (FORT GLEN)      US    AK         \n",
       "12  704890  25616                  DUTCH HARBOR AIRPORT      US    AK  PADU   \n",
       "13  704890  99999                          DUTCH HARBOR      US    AK  PADU   \n",
       "14  704891  99999                     NORTH ROCK HARBOR      US    AK         \n",
       "15  704895  99999                    CAPE SARICHEF ARPT      US    AK         \n",
       "16  704896  25625                           PORT MOLLER      US    AK  KPML   \n",
       "17  704897  25515                         DRIFTWOOD BAY      US    AK  KDFB   \n",
       "18  704898  00113  ROBERT (BOB) CURTIS MEMORIAL AIRPORT      US    AK  PFNO   \n",
       "19  704898  99999     REBERT (BOB) CURTIS MEMORIAL ARPT      US    AK  PFNO   \n",
       "\n",
       "   latitude longitude elevation date_begin  date_end  \n",
       "0   +55.357  -131.712   +0023.2   19730101  20151122  \n",
       "1   +55.039  -131.579   +0033.2   19410714  20151122  \n",
       "2   +55.131  -131.578   +0000.0   20060101  20151122  \n",
       "3   +55.133  -131.583   +0000.0   19980226  20051231  \n",
       "4   +52.833  +173.183   +0021.0   19430607  19871020  \n",
       "5   +52.717  +174.100   +0037.2   20050101  20151122  \n",
       "6   +52.717  +174.100   +0031.0   19430621  20041231  \n",
       "7   +51.883  -176.650   +0005.2   19421030  20151122  \n",
       "8   +51.883  -176.650   +0005.0   20000101  20031231  \n",
       "9   +51.383  +179.267   +0069.0   19430131  19931001  \n",
       "10  +52.950  -168.850   +0021.0   19420910  19940514  \n",
       "11  +53.367  -167.900   +0039.0   19420226  19501123  \n",
       "12  +53.895  -166.543   +0003.1   20081124  20151122  \n",
       "13  +53.900  -166.550   +0004.0   19460101  20081130  \n",
       "14  +53.883  -166.533   +0004.0   19760801  19761018  \n",
       "15  +54.600  -164.933   +0009.0   19730104  19800802  \n",
       "16  +56.000  -160.517   +0321.0   19590626  19740306  \n",
       "17  +53.967  -166.850   +0395.9   19730207  19731224  \n",
       "18  +66.818  -161.022   +0017.1   20130101  20151121  \n",
       "19  +66.818  -161.022   +0016.8   19730103  20121231  "
      ]
     },
     "execution_count": 38,
     "metadata": {},
     "output_type": "execute_result"
    }
   ],
   "source": [
    "df = sqlContext.table('training.stations').limit(20)\n",
    "df.toPandas()"
   ]
  },
  {
   "cell_type": "code",
   "execution_count": 39,
   "metadata": {
    "collapsed": false
   },
   "outputs": [
    {
     "data": {
      "text/plain": [
       "0.09466656877857038"
      ]
     },
     "execution_count": 39,
     "metadata": {},
     "output_type": "execute_result"
    }
   ],
   "source": [
    "weather = sqlContext.table('training.weather')\n",
    "weather.stat.corr('wind_speed', 'air_temperature')"
   ]
  },
  {
   "cell_type": "code",
   "execution_count": null,
   "metadata": {
    "collapsed": true
   },
   "outputs": [],
   "source": []
  }
 ],
 "metadata": {
  "kernelspec": {
   "display_name": "Python 2",
   "language": "python",
   "name": "python2"
  },
  "language_info": {
   "codemirror_mode": {
    "name": "ipython",
    "version": 2
   },
   "file_extension": ".py",
   "mimetype": "text/x-python",
   "name": "python",
   "nbconvert_exporter": "python",
   "pygments_lexer": "ipython2",
   "version": "2.7.11"
  }
 },
 "nbformat": 4,
 "nbformat_minor": 0
}
