{
 "cells": [
  {
   "cell_type": "markdown",
   "metadata": {},
   "source": [
    "# Weather Data Analytics\n",
    "This notebook performs some basic weather data analytics using the PySpark RDD interface."
   ]
  },
  {
   "cell_type": "markdown",
   "metadata": {},
   "source": [
    "## Helper Methods\n",
    "First we need some helper methods for converting the raw data into something that we can work with. We decide to use Python dictionaries instead of classes, since custom classes cannot be used within Zeppelin due to serialization issues"
   ]
  },
  {
   "cell_type": "code",
   "execution_count": 3,
   "metadata": {
    "collapsed": true
   },
   "outputs": [],
   "source": [
    "def _get_float(str):\n",
    "    \"\"\"\n",
    "    Helper method for converting a string to a float. If this is not possible, None will be returned instead\n",
    "    \"\"\"\n",
    "    if len(str) == 0:\n",
    "        return None\n",
    "    try:\n",
    "        return float(str)\n",
    "    except ValueError:\n",
    "        return None\n",
    "\n",
    "\n",
    "def extract_station(line):\n",
    "    \"\"\"\n",
    "    Extract weather station data from a raw CSV line\n",
    "    \"\"\"\n",
    "    raw_columns = line.split(',')\n",
    "    columns = [c.replace('\"','') for c in raw_columns]\n",
    "\n",
    "    usaf = columns[0]\n",
    "    wban = columns[1]\n",
    "    name = columns[2]\n",
    "    country = columns[3]\n",
    "    state = columns[4]\n",
    "    icao = columns[5]\n",
    "    latitude = _get_float(columns[6])\n",
    "    longitude = _get_float(columns[7])\n",
    "    elevation = _get_float(columns[8])\n",
    "    date_begin = columns[9]\n",
    "    date_end = columns[10]\n",
    "    return {\n",
    "            'usaf':usaf, \n",
    "            'wban':wban, \n",
    "            'name':name,\n",
    "            'country':country, \n",
    "            'state':state, \n",
    "            'icao':icao, \n",
    "            'latitude':latitude, \n",
    "            'longitude':longitude, \n",
    "            'elevation':elevation, \n",
    "            'date_begin':date_begin, \n",
    "            'date_end':date_end \n",
    "           }\n",
    "\n",
    "\n",
    "def extract_weather(line):\n",
    "    \"\"\"\n",
    "    Extract weather data from a raw data line.\n",
    "    \"\"\"\n",
    "    date = line[15:23]\n",
    "    time = line[23:27]\n",
    "    usaf = line[4:10]\n",
    "    wban = line[10:15]\n",
    "    airTemperatureQuality = line[92] == '1'\n",
    "    airTemperature = float(line[87:92]) / 10\n",
    "    windSpeedQuality = line[69] == '1'\n",
    "    windSpeed = float(line[65:69]) / 10\n",
    "    return {\n",
    "            'date':date, \n",
    "            'time':time, \n",
    "            'usaf':usaf, \n",
    "            'wban':wban, \n",
    "            'airTemperatureQuality':airTemperatureQuality, \n",
    "            'airTemperature':airTemperature, \n",
    "            'windSpeedQuality':windSpeedQuality, \n",
    "            'windSpeed':windSpeed \n",
    "        }"
   ]
  },
  {
   "cell_type": "markdown",
   "metadata": {},
   "source": [
    "## Test extraction methods"
   ]
  },
  {
   "cell_type": "code",
   "execution_count": 5,
   "metadata": {
    "collapsed": false
   },
   "outputs": [
    {
     "name": "stdout",
     "output_type": "stream",
     "text": [
      "{'date_begin': u'BEGIN', 'name': u'STATION NAME', 'country': u'CTRY', 'date_end': u'END', 'usaf': u'USAF', 'longitude': None, 'icao': u'ICAO', 'state': u'STATE', 'wban': u'WBAN', 'latitude': None, 'elevation': None}\n",
      "{'date_begin': u'20120127', 'name': u'CWOS 07005', 'country': u'', 'date_end': u'20120127', 'usaf': u'007005', 'longitude': None, 'icao': u'', 'state': u'', 'wban': u'99999', 'latitude': None, 'elevation': None}\n",
      "{'date_begin': u'20111025', 'name': u'CWOS 07011', 'country': u'', 'date_end': u'20121129', 'usaf': u'007011', 'longitude': None, 'icao': u'', 'state': u'', 'wban': u'99999', 'latitude': None, 'elevation': None}\n",
      "{'date_begin': u'20110309', 'name': u'WXPOD 7018', 'country': u'', 'date_end': u'20130730', 'usaf': u'007018', 'longitude': 0.0, 'icao': u'', 'state': u'', 'wban': u'99999', 'latitude': 0.0, 'elevation': 7018.0}\n",
      "{'date_begin': u'20120127', 'name': u'CWOS 07025', 'country': u'', 'date_end': u'20120127', 'usaf': u'007025', 'longitude': None, 'icao': u'', 'state': u'', 'wban': u'99999', 'latitude': None, 'elevation': None}\n"
     ]
    }
   ],
   "source": [
    "stations = sc.textFile('/user/cloudera/data/weather/isd-history.csv').map(lambda line: extract_station(line))\n",
    "for s in stations.take(5):\n",
    "    print s"
   ]
  },
  {
   "cell_type": "code",
   "execution_count": 6,
   "metadata": {
    "collapsed": false
   },
   "outputs": [
    {
     "name": "stdout",
     "output_type": "stream",
     "text": [
      "{'airTemperature': -13.6, 'windSpeedQuality': True, 'usaf': u'010060', 'windSpeed': 3.0, 'wban': u'99999', 'time': u'0100', 'date': u'20140101', 'airTemperatureQuality': True}\n",
      "{'airTemperature': -14.2, 'windSpeedQuality': True, 'usaf': u'010060', 'windSpeed': 2.0, 'wban': u'99999', 'time': u'0200', 'date': u'20140101', 'airTemperatureQuality': True}\n",
      "{'airTemperature': -10.7, 'windSpeedQuality': True, 'usaf': u'010060', 'windSpeed': 4.0, 'wban': u'99999', 'time': u'0400', 'date': u'20140101', 'airTemperatureQuality': True}\n",
      "{'airTemperature': -11.2, 'windSpeedQuality': True, 'usaf': u'010060', 'windSpeed': 3.0, 'wban': u'99999', 'time': u'0500', 'date': u'20140101', 'airTemperatureQuality': True}\n",
      "{'airTemperature': -10.0, 'windSpeedQuality': True, 'usaf': u'010060', 'windSpeed': 5.0, 'wban': u'99999', 'time': u'0600', 'date': u'20140101', 'airTemperatureQuality': True}\n"
     ]
    }
   ],
   "source": [
    "weather = sc.textFile('/user/cloudera/data/weather/2014').map(lambda line: extract_weather(line))\n",
    "for w in weather.take(5):\n",
    "    print w"
   ]
  },
  {
   "cell_type": "markdown",
   "metadata": {},
   "source": [
    "# Join Data Sets\n",
    "\n",
    "In order to analyse the data, we need to join the weather data with the station data, so we can get more detailed information where the weather actually was recorded."
   ]
  },
  {
   "cell_type": "code",
   "execution_count": 7,
   "metadata": {
    "collapsed": false
   },
   "outputs": [
    {
     "name": "stdout",
     "output_type": "stream",
     "text": [
      "(u'71060099999', ({'airTemperature': -6.6, 'windSpeedQuality': True, 'usaf': u'710600', 'windSpeed': 1.5, 'wban': u'99999', 'time': u'0000', 'date': u'20140101', 'airTemperatureQuality': True}, {'date_begin': u'19840101', 'name': u'NORDEGG CS  ALTA', 'country': u'CA', 'date_end': u'20151121', 'usaf': u'710600', 'longitude': -116.067, 'icao': u'CXND', 'state': u'', 'wban': u'99999', 'latitude': 52.467, 'elevation': 1362.0}))\n",
      "(u'71060099999', ({'airTemperature': -7.6, 'windSpeedQuality': True, 'usaf': u'710600', 'windSpeed': 1.5, 'wban': u'99999', 'time': u'0000', 'date': u'20140101', 'airTemperatureQuality': True}, {'date_begin': u'19840101', 'name': u'NORDEGG CS  ALTA', 'country': u'CA', 'date_end': u'20151121', 'usaf': u'710600', 'longitude': -116.067, 'icao': u'CXND', 'state': u'', 'wban': u'99999', 'latitude': 52.467, 'elevation': 1362.0}))\n",
      "(u'71060099999', ({'airTemperature': -7.0, 'windSpeedQuality': True, 'usaf': u'710600', 'windSpeed': 2.1, 'wban': u'99999', 'time': u'0100', 'date': u'20140101', 'airTemperatureQuality': True}, {'date_begin': u'19840101', 'name': u'NORDEGG CS  ALTA', 'country': u'CA', 'date_end': u'20151121', 'usaf': u'710600', 'longitude': -116.067, 'icao': u'CXND', 'state': u'', 'wban': u'99999', 'latitude': 52.467, 'elevation': 1362.0}))\n",
      "(u'71060099999', ({'airTemperature': -5.3, 'windSpeedQuality': True, 'usaf': u'710600', 'windSpeed': 1.0, 'wban': u'99999', 'time': u'0200', 'date': u'20140101', 'airTemperatureQuality': True}, {'date_begin': u'19840101', 'name': u'NORDEGG CS  ALTA', 'country': u'CA', 'date_end': u'20151121', 'usaf': u'710600', 'longitude': -116.067, 'icao': u'CXND', 'state': u'', 'wban': u'99999', 'latitude': 52.467, 'elevation': 1362.0}))\n",
      "(u'71060099999', ({'airTemperature': -5.2, 'windSpeedQuality': True, 'usaf': u'710600', 'windSpeed': 1.0, 'wban': u'99999', 'time': u'0300', 'date': u'20140101', 'airTemperatureQuality': True}, {'date_begin': u'19840101', 'name': u'NORDEGG CS  ALTA', 'country': u'CA', 'date_end': u'20151121', 'usaf': u'710600', 'longitude': -116.067, 'icao': u'CXND', 'state': u'', 'wban': u'99999', 'latitude': 52.467, 'elevation': 1362.0}))\n"
     ]
    }
   ],
   "source": [
    "station_index = stations.keyBy(lambda data: data['usaf'] + data['wban'])\n",
    "weather_index = weather.keyBy(lambda data: data['usaf'] + data['wban'])\n",
    "joined_weather = weather_index.join(station_index)\n",
    "\n",
    "for d in joined_weather.take(5):\n",
    "    print d"
   ]
  },
  {
   "cell_type": "markdown",
   "metadata": {},
   "source": [
    "## Create appropriate Keys\n",
    "We want to analyze the data grouped by country and year. So we need to create appropriate keys."
   ]
  },
  {
   "cell_type": "code",
   "execution_count": 8,
   "metadata": {
    "collapsed": true
   },
   "outputs": [],
   "source": [
    "def extract_country_year_weather(data):\n",
    "    return ((data[1][1]['country'], data[1][0]['date'][0:4]), data[1][0])\n",
    "\n",
    "weather_per_country_and_year = joined_weather.map(extract_country_year_weather)"
   ]
  },
  {
   "cell_type": "markdown",
   "metadata": {},
   "source": [
    "## Perform Aggregation\n",
    "We want to extract minimum and maximum of wind speed and of temperature. We also want to consider cases where data is not valid (i.e. windSpeedQuality is False or airTemperature is False).\n",
    "\n",
    "We will implement custom aggregation functions that work on dictionaries"
   ]
  },
  {
   "cell_type": "code",
   "execution_count": 9,
   "metadata": {
    "collapsed": true
   },
   "outputs": [],
   "source": [
    "def nullsafe_min(a, b):\n",
    "    \"\"\"\n",
    "    Helper method for taking the min of two values. Also gracefully handles None values\n",
    "    \"\"\"\n",
    "    from __builtin__ import min\n",
    "    if a is None:\n",
    "        return b\n",
    "    if b is None:\n",
    "        return a\n",
    "    return min(a,b)\n",
    "\n",
    "\n",
    "def nullsafe_max(a, b):\n",
    "    \"\"\"\n",
    "    Helper method for taking the max of two values. Also gracefully handles None values\n",
    "    \"\"\"\n",
    "    from __builtin__ import max\n",
    "    if a is None:\n",
    "        return b\n",
    "    if b is None:\n",
    "        return a\n",
    "    return max(a, b)\n",
    "\n",
    "\n",
    "# Neutral value used in aggregation\n",
    "zero_wmm = { 'minTemperature':None, 'maxTemperature':None, 'minWindSpeed':None, 'maxWindSpeed':None }\n",
    "\n",
    "\n",
    "def reduce_wmm(wmm, data):\n",
    "    \"\"\"\n",
    "    Used for merging in a new weather data set into an existing WeatherMinMax object. The incoming\n",
    "    objects will not be modified, instead a new object will be returned.\n",
    "    :param wmm: A Python dictionary representing min/max information\n",
    "    :param data: A Python dictionary representring weather measurement information\n",
    "    :returns: A new Python dictionary representing min/max information\n",
    "    \"\"\"\n",
    "    if data['airTemperatureQuality']:\n",
    "        minTemperature = nullsafe_min(wmm['minTemperature'], data['airTemperature'])\n",
    "        maxTemperature = nullsafe_max(wmm['maxTemperature'], data['airTemperature'])\n",
    "    else:\n",
    "        minTemperature = wmm['minTemperature']\n",
    "        maxTemperature = wmm['maxTemperature']\n",
    "\n",
    "    if data['windSpeedQuality']:\n",
    "        minWindSpeed = nullsafe_min(wmm['minWindSpeed'], data['windSpeed'])\n",
    "        maxWindSpeed = nullsafe_max(wmm['maxWindSpeed'], data['windSpeed'])\n",
    "    else:\n",
    "        minWindSpeed = wmm['minWindSpeed']\n",
    "        maxWindSpeed = wmm['maxWindSpeed']\n",
    "\n",
    "    return { 'minTemperature':minTemperature, 'maxTemperature':maxTemperature, 'minWindSpeed':minWindSpeed, 'maxWindSpeed':maxWindSpeed }\n",
    "\n",
    "\n",
    "def combine_wmm(left, right):\n",
    "    \"\"\"\n",
    "    Used for combining two WeatherMinMax objects into a new WeatherMinMax object\n",
    "    :param self: First Python dictionary representing min/max information\n",
    "    :param other: Second Python dictionary representing min/max information\n",
    "    :returns: A new Python dictionary representing combined min/max information\n",
    "    \"\"\"\n",
    "    minTemperature = nullsafe_min(left['minTemperature'], right['minTemperature'])\n",
    "    maxTemperature = nullsafe_max(left['maxTemperature'], right['maxTemperature'])\n",
    "    minWindSpeed = nullsafe_min(left['minWindSpeed'], right['minWindSpeed'])\n",
    "    maxWindSpeed = nullsafe_max(left['maxWindSpeed'], right['maxWindSpeed'])\n",
    "\n",
    "    return { 'minTemperature':minTemperature, 'maxTemperature':maxTemperature, 'minWindSpeed':minWindSpeed, 'maxWindSpeed':maxWindSpeed }"
   ]
  },
  {
   "cell_type": "code",
   "execution_count": 10,
   "metadata": {
    "collapsed": false
   },
   "outputs": [
    {
     "name": "stdout",
     "output_type": "stream",
     "text": [
      "((u'EZ', u'2014'), {'maxWindSpeed': 16.5, 'maxTemperature': 33.0, 'minWindSpeed': 0.0, 'minTemperature': -15.0})\n",
      "((u'UK', u'2014'), {'maxWindSpeed': 20.6, 'maxTemperature': 30.4, 'minWindSpeed': 0.0, 'minTemperature': -6.0})\n",
      "((u'SF', u'2014'), {'maxWindSpeed': 13.4, 'maxTemperature': 37.4, 'minWindSpeed': 0.0, 'minTemperature': 0.9})\n",
      "((u'SC', u'2014'), {'maxWindSpeed': 30.4, 'maxTemperature': 32.0, 'minWindSpeed': 0.0, 'minTemperature': 20.0})\n",
      "((u'CH', u'2014'), {'maxWindSpeed': 15.0, 'maxTemperature': 34.0, 'minWindSpeed': 0.0, 'minTemperature': 11.0})\n"
     ]
    }
   ],
   "source": [
    "# Aggregate min/max information per year and country\n",
    "weather_minmax = weather_per_country_and_year.aggregateByKey(zero_wmm,reduce_wmm, combine_wmm)\n",
    "\n",
    "for m in weather_minmax.take(5):\n",
    "    print m\n"
   ]
  },
  {
   "cell_type": "markdown",
   "metadata": {},
   "source": [
    "# Format Output\n",
    "\n",
    "We want to create CSV data, so we need to reformat the Python dicts to nicely looking strings"
   ]
  },
  {
   "cell_type": "code",
   "execution_count": 11,
   "metadata": {
    "collapsed": false
   },
   "outputs": [
    {
     "name": "stdout",
     "output_type": "stream",
     "text": [
      "EZ,2014,-15.000000,33.000000,0.000000,16.500000\n",
      "UK,2014,-6.000000,30.400000,0.000000,20.600000\n",
      "SF,2014,0.900000,37.400000,0.000000,13.400000\n",
      "SC,2014,20.000000,32.000000,0.000000,30.400000\n",
      "CH,2014,11.000000,34.000000,0.000000,15.000000\n",
      "SW,2014,-34.500000,28.900000,1.000000,16.000000\n",
      "IT,2014,-6.800000,24.000000,0.000000,20.600000\n",
      "FI,2014,-28.600000,30.300000,0.000000,18.000000\n",
      "US,2014,-37.200000,41.200000,0.000000,31.000000\n",
      "AS,2014,0.900000,45.600000,0.000000,14.400000\n",
      "JA,2014,-0.500000,33.900000,0.000000,19.600000\n",
      "PO,2014,-1.000000,32.000000,0.000000,15.400000\n",
      "GK,2014,2.000000,24.000000,0.000000,21.100000\n",
      "MY,2014,19.000000,36.000000,0.000000,9.800000\n",
      "AU,2014,-11.000000,34.000000,0.000000,16.500000\n",
      "DA,2014,-9.000000,30.200000,0.000000,17.000000\n",
      "GM,2014,-9.000000,31.000000,0.000000,13.400000\n",
      "FR,2014,-9.000000,36.100000,0.000000,16.500000\n",
      "PL,2014,-15.000000,32.000000,0.000000,14.900000\n",
      "RS,2014,-28.900000,30.500000,0.000000,11.000000\n",
      "LU,2014,-10.000000,32.100000,0.000000,13.400000\n",
      "BE,2014,-7.000000,33.100000,0.000000,16.000000\n",
      "IC,2014,-7.000000,18.000000,0.000000,29.300000\n",
      "CA,2014,-43.600000,35.900000,0.000000,26.800000\n",
      "NO,2014,-35.700000,32.000000,0.000000,35.500000\n",
      "AM,2014,-19.000000,39.000000,0.000000,16.000000\n",
      "NL,2014,-9.000000,35.000000,0.000000,27.300000\n"
     ]
    }
   ],
   "source": [
    "def format_result(row):\n",
    "    # Every row contains the key and the data.\n",
    "    #   key is (country, year)\n",
    "    #   value is Python dictionary containing min/max information\n",
    "    (k,v) = row\n",
    "    country = k[0]\n",
    "    year = k[1]\n",
    "    minT = v['minTemperature'] or 0.0\n",
    "    maxT = v['maxTemperature'] or 0.0\n",
    "    minW = v['minWindSpeed'] or 0.0\n",
    "    maxW = v['maxWindSpeed'] or 0.0\n",
    "    line = \"%s,%s,%f,%f,%f,%f\" % (country, year, minT, maxT, minW, maxW)\n",
    "    # Encode as UTF-8, or we might experience some problems\n",
    "    return line.encode('utf-8')\n",
    "\n",
    "result = weather_minmax.map(format_result).collect()\n",
    "\n",
    "for l in result:\n",
    "    print l"
   ]
  },
  {
   "cell_type": "code",
   "execution_count": null,
   "metadata": {
    "collapsed": true
   },
   "outputs": [],
   "source": []
  }
 ],
 "metadata": {
  "kernelspec": {
   "display_name": "Python 2",
   "language": "python",
   "name": "python2"
  },
  "language_info": {
   "codemirror_mode": {
    "name": "ipython",
    "version": 2
   },
   "file_extension": ".py",
   "mimetype": "text/x-python",
   "name": "python",
   "nbconvert_exporter": "python",
   "pygments_lexer": "ipython2",
   "version": "2.7.11"
  }
 },
 "nbformat": 4,
 "nbformat_minor": 0
}
